{
  "cells": [
    {
      "cell_type": "code",
      "execution_count": 1,
      "metadata": {},
      "outputs": [
        {
          "data": {
            "text/html": [
              "<div>\n",
              "<style scoped>\n",
              "    .dataframe tbody tr th:only-of-type {\n",
              "        vertical-align: middle;\n",
              "    }\n",
              "\n",
              "    .dataframe tbody tr th {\n",
              "        vertical-align: top;\n",
              "    }\n",
              "\n",
              "    .dataframe thead th {\n",
              "        text-align: right;\n",
              "    }\n",
              "</style>\n",
              "<table border=\"1\" class=\"dataframe\">\n",
              "  <thead>\n",
              "    <tr style=\"text-align: right;\">\n",
              "      <th></th>\n",
              "      <th>score</th>\n",
              "      <th>text</th>\n",
              "      <th>sentimen</th>\n",
              "    </tr>\n",
              "  </thead>\n",
              "  <tbody>\n",
              "    <tr>\n",
              "      <th>0</th>\n",
              "      <td>1.0</td>\n",
              "      <td>['aktif', 'kampus', 'merdeka', 'semester', 'po...</td>\n",
              "      <td>positive</td>\n",
              "    </tr>\n",
              "    <tr>\n",
              "      <th>1</th>\n",
              "      <td>2.0</td>\n",
              "      <td>['alam', 'jurus', 'sasing', 'informasi', 'daft...</td>\n",
              "      <td>positive</td>\n",
              "    </tr>\n",
              "    <tr>\n",
              "      <th>2</th>\n",
              "      <td>2.0</td>\n",
              "      <td>['alam', 'mbkm', 'program', 'kampus', 'ajar', ...</td>\n",
              "      <td>positive</td>\n",
              "    </tr>\n",
              "    <tr>\n",
              "      <th>3</th>\n",
              "      <td>-1.0</td>\n",
              "      <td>['alam', 'sendiri', 'program', 'magang', 'mbkm...</td>\n",
              "      <td>negative</td>\n",
              "    </tr>\n",
              "    <tr>\n",
              "      <th>4</th>\n",
              "      <td>1.0</td>\n",
              "      <td>['alam', 'teman', 'tukar', 'uang', 'saku', 'ca...</td>\n",
              "      <td>positive</td>\n",
              "    </tr>\n",
              "  </tbody>\n",
              "</table>\n",
              "</div>"
            ],
            "text/plain": [
              "   score                                               text  sentimen\n",
              "0    1.0  ['aktif', 'kampus', 'merdeka', 'semester', 'po...  positive\n",
              "1    2.0  ['alam', 'jurus', 'sasing', 'informasi', 'daft...  positive\n",
              "2    2.0  ['alam', 'mbkm', 'program', 'kampus', 'ajar', ...  positive\n",
              "3   -1.0  ['alam', 'sendiri', 'program', 'magang', 'mbkm...  negative\n",
              "4    1.0  ['alam', 'teman', 'tukar', 'uang', 'saku', 'ca...  positive"
            ]
          },
          "execution_count": 1,
          "metadata": {},
          "output_type": "execute_result"
        }
      ],
      "source": [
        "import pandas as pd\n",
        "df = pd.read_csv('C:/Users/dions/Music/data coding/mbkm1 label.csv',sep=';')\n",
        "df = df[['score','text','sentimen']]\n",
        "df.head()"
      ]
    },
    {
      "cell_type": "code",
      "execution_count": 2,
      "metadata": {
        "id": "N5eFAUswJfnv"
      },
      "outputs": [],
      "source": [
        "x = df['text']\n",
        "y = df['sentimen']"
      ]
    },
    {
      "cell_type": "code",
      "execution_count": 3,
      "metadata": {
        "colab": {
          "base_uri": "https://localhost:8080/"
        },
        "id": "n_RC-sy6qlHh",
        "outputId": "34cdac74-0a92-48cd-b13c-ff5b471e9e87"
      },
      "outputs": [
        {
          "data": {
            "text/plain": [
              "0    1\n",
              "1    1\n",
              "2    1\n",
              "3    0\n",
              "4    1\n",
              "Name: sentimen, dtype: int64"
            ]
          },
          "execution_count": 3,
          "metadata": {},
          "output_type": "execute_result"
        }
      ],
      "source": [
        "# mapping, negative = 0, positive = 1\n",
        "y = y.map({'negative':0, 'positive':1}) #negative akan diubah menjadi 0 dan positive menjadi 1\n",
        "y.head()"
      ]
    },
    {
      "cell_type": "code",
      "execution_count": 4,
      "metadata": {
        "colab": {
          "base_uri": "https://localhost:8080/"
        },
        "id": "IhNheaf-LNdo",
        "outputId": "afbcaa95-668d-4025-df71-e85d6552fe00"
      },
      "outputs": [
        {
          "data": {
            "text/html": [
              "<style>#sk-container-id-1 {color: black;}#sk-container-id-1 pre{padding: 0;}#sk-container-id-1 div.sk-toggleable {background-color: white;}#sk-container-id-1 label.sk-toggleable__label {cursor: pointer;display: block;width: 100%;margin-bottom: 0;padding: 0.3em;box-sizing: border-box;text-align: center;}#sk-container-id-1 label.sk-toggleable__label-arrow:before {content: \"▸\";float: left;margin-right: 0.25em;color: #696969;}#sk-container-id-1 label.sk-toggleable__label-arrow:hover:before {color: black;}#sk-container-id-1 div.sk-estimator:hover label.sk-toggleable__label-arrow:before {color: black;}#sk-container-id-1 div.sk-toggleable__content {max-height: 0;max-width: 0;overflow: hidden;text-align: left;background-color: #f0f8ff;}#sk-container-id-1 div.sk-toggleable__content pre {margin: 0.2em;color: black;border-radius: 0.25em;background-color: #f0f8ff;}#sk-container-id-1 input.sk-toggleable__control:checked~div.sk-toggleable__content {max-height: 200px;max-width: 100%;overflow: auto;}#sk-container-id-1 input.sk-toggleable__control:checked~label.sk-toggleable__label-arrow:before {content: \"▾\";}#sk-container-id-1 div.sk-estimator input.sk-toggleable__control:checked~label.sk-toggleable__label {background-color: #d4ebff;}#sk-container-id-1 div.sk-label input.sk-toggleable__control:checked~label.sk-toggleable__label {background-color: #d4ebff;}#sk-container-id-1 input.sk-hidden--visually {border: 0;clip: rect(1px 1px 1px 1px);clip: rect(1px, 1px, 1px, 1px);height: 1px;margin: -1px;overflow: hidden;padding: 0;position: absolute;width: 1px;}#sk-container-id-1 div.sk-estimator {font-family: monospace;background-color: #f0f8ff;border: 1px dotted black;border-radius: 0.25em;box-sizing: border-box;margin-bottom: 0.5em;}#sk-container-id-1 div.sk-estimator:hover {background-color: #d4ebff;}#sk-container-id-1 div.sk-parallel-item::after {content: \"\";width: 100%;border-bottom: 1px solid gray;flex-grow: 1;}#sk-container-id-1 div.sk-label:hover label.sk-toggleable__label {background-color: #d4ebff;}#sk-container-id-1 div.sk-serial::before {content: \"\";position: absolute;border-left: 1px solid gray;box-sizing: border-box;top: 0;bottom: 0;left: 50%;z-index: 0;}#sk-container-id-1 div.sk-serial {display: flex;flex-direction: column;align-items: center;background-color: white;padding-right: 0.2em;padding-left: 0.2em;position: relative;}#sk-container-id-1 div.sk-item {position: relative;z-index: 1;}#sk-container-id-1 div.sk-parallel {display: flex;align-items: stretch;justify-content: center;background-color: white;position: relative;}#sk-container-id-1 div.sk-item::before, #sk-container-id-1 div.sk-parallel-item::before {content: \"\";position: absolute;border-left: 1px solid gray;box-sizing: border-box;top: 0;bottom: 0;left: 50%;z-index: -1;}#sk-container-id-1 div.sk-parallel-item {display: flex;flex-direction: column;z-index: 1;position: relative;background-color: white;}#sk-container-id-1 div.sk-parallel-item:first-child::after {align-self: flex-end;width: 50%;}#sk-container-id-1 div.sk-parallel-item:last-child::after {align-self: flex-start;width: 50%;}#sk-container-id-1 div.sk-parallel-item:only-child::after {width: 0;}#sk-container-id-1 div.sk-dashed-wrapped {border: 1px dashed gray;margin: 0 0.4em 0.5em 0.4em;box-sizing: border-box;padding-bottom: 0.4em;background-color: white;}#sk-container-id-1 div.sk-label label {font-family: monospace;font-weight: bold;display: inline-block;line-height: 1.2em;}#sk-container-id-1 div.sk-label-container {text-align: center;}#sk-container-id-1 div.sk-container {/* jupyter's `normalize.less` sets `[hidden] { display: none; }` but bootstrap.min.css set `[hidden] { display: none !important; }` so we also need the `!important` here to be able to override the default hidden behavior on the sphinx rendered scikit-learn.org. See: https://github.com/scikit-learn/scikit-learn/issues/21755 */display: inline-block !important;position: relative;}#sk-container-id-1 div.sk-text-repr-fallback {display: none;}</style><div id=\"sk-container-id-1\" class=\"sk-top-container\"><div class=\"sk-text-repr-fallback\"><pre>LabelEncoder()</pre><b>In a Jupyter environment, please rerun this cell to show the HTML representation or trust the notebook. <br />On GitHub, the HTML representation is unable to render, please try loading this page with nbviewer.org.</b></div><div class=\"sk-container\" hidden><div class=\"sk-item\"><div class=\"sk-estimator sk-toggleable\"><input class=\"sk-toggleable__control sk-hidden--visually\" id=\"sk-estimator-id-1\" type=\"checkbox\" checked><label for=\"sk-estimator-id-1\" class=\"sk-toggleable__label sk-toggleable__label-arrow\">LabelEncoder</label><div class=\"sk-toggleable__content\"><pre>LabelEncoder()</pre></div></div></div></div></div>"
            ],
            "text/plain": [
              "LabelEncoder()"
            ]
          },
          "execution_count": 4,
          "metadata": {},
          "output_type": "execute_result"
        }
      ],
      "source": [
        "from sklearn.preprocessing import LabelEncoder\n",
        "le = LabelEncoder()\n",
        "le.fit(y)"
      ]
    },
    {
      "cell_type": "code",
      "execution_count": 5,
      "metadata": {
        "colab": {
          "base_uri": "https://localhost:8080/"
        },
        "id": "ClOc8fDBH3Jo",
        "outputId": "a3082d3e-8c19-4046-cb6c-35d2ccb77b09"
      },
      "outputs": [
        {
          "name": "stdout",
          "output_type": "stream",
          "text": [
            "Counter({1: 138, 0: 72})\n"
          ]
        }
      ],
      "source": [
        "from collections import Counter\n",
        "counter = Counter(y)\n",
        "print(counter)"
      ]
    },
    {
      "cell_type": "code",
      "execution_count": 6,
      "metadata": {
        "colab": {
          "base_uri": "https://localhost:8080/"
        },
        "id": "t1MvpkyZH-cC",
        "outputId": "5e560bab-2743-4925-ff52-11a97576c91d"
      },
      "outputs": [
        {
          "name": "stderr",
          "output_type": "stream",
          "text": [
            "[nltk_data] Downloading package stopwords to\n",
            "[nltk_data]     C:\\Users\\dions\\AppData\\Roaming\\nltk_data...\n",
            "[nltk_data]   Package stopwords is already up-to-date!\n"
          ]
        }
      ],
      "source": [
        "import nltk\n",
        "nltk.download('stopwords')\n",
        "from nltk.corpus import stopwords\n",
        "from sklearn.model_selection import StratifiedShuffleSplit"
      ]
    },
    {
      "cell_type": "markdown",
      "metadata": {
        "id": "3M0xDaD3o4KZ"
      },
      "source": [
        "**TF-IDF**"
      ]
    },
    {
      "cell_type": "code",
      "execution_count": 7,
      "metadata": {
        "id": "Dq23OTXdzFL_"
      },
      "outputs": [],
      "source": [
        "data = df"
      ]
    },
    {
      "cell_type": "markdown",
      "metadata": {},
      "source": [
        "**KALIMAT DIUBAH DALAM BENTUK LIST**"
      ]
    },
    {
      "cell_type": "code",
      "execution_count": 13,
      "metadata": {
        "colab": {
          "base_uri": "https://localhost:8080/"
        },
        "id": "TZ81gYbnW7Te",
        "outputId": "0a70f2d6-98eb-4a1c-d0e9-6dea4d036eff"
      },
      "outputs": [
        {
          "name": "stdout",
          "output_type": "stream",
          "text": [
            "['lulus', 'mbkm', 'indeks', 'prestasi', 'kumulatif', 'semester', 'stabilnaik', 'sayang', 'moga', 'pribadi', 'sabar', 'uang']\n",
            "\n",
            "type :  <class 'list'>\n"
          ]
        }
      ],
      "source": [
        "# convert list formatted string to list\n",
        "import ast\n",
        "\n",
        "def convert_text_list(texts):\n",
        "    texts = ast.literal_eval(texts)   # Mengkonversi representasi string dari sebuah list menjadi list sesungguhnya\n",
        "    return [text for text in texts]  # Membuat list baru dengan setiap elemen sebagai teks dari list yang telah dikonversi\n",
        "\n",
        "data[\"tweet_list\"] = data[\"text\"].apply(convert_text_list)  # Menggunakan fungsi convert_text_list untuk setiap nilai pada kolom 'text' dan atribusikan hasilnya ke kolom 'tweet_list'\n",
        "\n",
        "print(data[\"tweet_list\"][90])  # Cetak nilai pada kolom 'tweet_list' pada indeks 90\n",
        "\n",
        "print(\"\\ntype : \", type(data[\"tweet_list\"][60]))  # Cetak tipe nilai pada indeks 90 dari kolom 'tweet_list'\n"
      ]
    },
    {
      "cell_type": "code",
      "execution_count": 18,
      "metadata": {
        "colab": {
          "base_uri": "https://localhost:8080/"
        },
        "id": "tVDv2VYiXDKg",
        "outputId": "85abe1ea-756c-49ce-a598-9295cdcb0a70"
      },
      "outputs": [
        {
          "data": {
            "text/plain": [
              "0    {'aktif': 0.045454545454545456, 'kampus': 0.13...\n",
              "1    {'alam': 0.045454545454545456, 'jurus': 0.0454...\n",
              "2    {'alam': 0.058823529411764705, 'mbkm': 0.05882...\n",
              "3    {'alam': 0.08333333333333333, 'sendiri': 0.083...\n",
              "4    {'alam': 0.1, 'teman': 0.1, 'tukar': 0.1, 'uan...\n",
              "5    {'ambil': 0.1111111111111111, 'mbkm': 0.111111...\n",
              "6    {'amin': 0.2, 'tunggu': 0.2, 'uang': 0.2, 'mbk...\n",
              "7    {'anak': 0.07692307692307693, 'bidikmisi': 0.0...\n",
              "8    {'anak': 0.05555555555555555, 'didik': 0.05555...\n",
              "9    {'aneh': 0.043478260869565216, 'minat': 0.0869...\n",
              "Name: TF_dict, dtype: object"
            ]
          },
          "execution_count": 18,
          "metadata": {},
          "output_type": "execute_result"
        }
      ],
      "source": [
        "def calc_TF(document):\n",
        "    # Menghitung jumlah kemunculan kata dalam dokumen\n",
        "    TF_dict = {}  # Dictionary untuk menyimpan frekuensi kemunculan (TF) setiap kata\n",
        "    for term in document:\n",
        "        if term in TF_dict:\n",
        "            TF_dict[term] += 1  # Jika kata sudah ada di dalam dictionary, tambahkan 1 pada jumlah kemunculannya\n",
        "        else:\n",
        "            TF_dict[term] = 1  # Jika kata belum ada di dalam dictionary, inisialisasi jumlah kemunculannya menjadi 1\n",
        "    \n",
        "    # Menghitung TF setiap kata dengan membagi jumlah kemunculan kata tersebut dengan total jumlah kata dalam dokumen\n",
        "    for term in TF_dict:\n",
        "        TF_dict[term] = TF_dict[term] / len(document)\n",
        "    \n",
        "    return TF_dict\n",
        "\n",
        "data[\"TF_dict\"] = data['tweet_list'].apply(calc_TF)  # Terapkan fungsi calc_TF pada setiap elemen kolom 'tweet_list' dan simpan hasil dictionary TF ke dalam kolom baru bernama 'TF_dict'\n",
        "\n",
        "data[\"TF_dict\"].head(10)  # Cetak beberapa baris pertama dari kolom 'TF_dict'\n"
      ]
    },
    {
      "cell_type": "code",
      "execution_count": 17,
      "metadata": {
        "colab": {
          "base_uri": "https://localhost:8080/"
        },
        "id": "qdHKqR8QXRbY",
        "outputId": "0c6b9c04-cf85-4caa-93de-3a2140b007bf"
      },
      "outputs": [
        {
          "name": "stdout",
          "output_type": "stream",
          "text": [
            "                term \t TF\n",
            "\n",
            "               cepat \t 0.05555555555555555\n",
            "               lulus \t 0.05555555555555555\n",
            "               ambil \t 0.05555555555555555\n",
            "              magang \t 0.1111111111111111\n",
            "                 pas \t 0.05555555555555555\n",
            "               libur \t 0.05555555555555555\n",
            "              santai \t 0.05555555555555555\n",
            "                mbkm \t 0.05555555555555555\n",
            "             lumayan \t 0.05555555555555555\n",
            "                uang \t 0.05555555555555555\n",
            "                saku \t 0.05555555555555555\n",
            "              jangka \t 0.05555555555555555\n",
            "            instansi \t 0.05555555555555555\n",
            "               kasih \t 0.05555555555555555\n",
            "               nilai \t 0.05555555555555555\n",
            "              dampak \t 0.05555555555555555\n",
            "                 sks \t 0.05555555555555555\n"
          ]
        }
      ],
      "source": [
        "# Check TF result\n",
        "index = 30\n",
        "\n",
        "print('%20s' % \"term\", \"\\t\", \"TF\\n\")\n",
        "for key in data[\"TF_dict\"][index]:\n",
        "    print('%20s' % key, \"\\t\", data[\"TF_dict\"][index][key])"
      ]
    },
    {
      "cell_type": "code",
      "execution_count": 19,
      "metadata": {
        "id": "fKwFWRpaXWt8"
      },
      "outputs": [],
      "source": [
        "def calc_DF(tfDict):\n",
        "    count_DF = {}\n",
        "    # Run through each document's tf dictionary and increment countDict's (term, doc) pair\n",
        "    for document in tfDict:\n",
        "        for term in document:\n",
        "            if term in count_DF:\n",
        "                count_DF[term] += 1\n",
        "            else:\n",
        "                count_DF[term] = 1\n",
        "    return count_DF\n",
        "\n",
        "DF = calc_DF(data[\"TF_dict\"])"
      ]
    },
    {
      "cell_type": "code",
      "execution_count": 20,
      "metadata": {
        "id": "B1zBMPKlXbf0"
      },
      "outputs": [],
      "source": [
        "import numpy as np\n",
        "n_document = len(data)\n",
        "\n",
        "def calc_IDF(__n_document, __DF):\n",
        "    IDF_Dict = {}\n",
        "    for term in __DF:\n",
        "        IDF_Dict[term] = np.log(__n_document / (__DF[term] + 1))\n",
        "    return IDF_Dict\n",
        "\n",
        "#Stores the idf dictionary\n",
        "IDF = calc_IDF(n_document, DF)"
      ]
    },
    {
      "cell_type": "code",
      "execution_count": 21,
      "metadata": {
        "id": "NuOpk7byXgQT"
      },
      "outputs": [],
      "source": [
        "#calc TF-IDF\n",
        "def calc_TF_IDF(TF):\n",
        "    TF_IDF_Dict = {}\n",
        "    #For each word in the review, we multiply its tf and its idf.\n",
        "    for key in TF:\n",
        "        TF_IDF_Dict[key] = TF[key] * IDF[key]\n",
        "    return TF_IDF_Dict\n",
        "\n",
        "#Stores the TF-IDF Series\n",
        "data[\"TF-IDF_dict\"] = data[\"TF_dict\"].apply(calc_TF_IDF)"
      ]
    },
    {
      "cell_type": "code",
      "execution_count": 25,
      "metadata": {
        "colab": {
          "base_uri": "https://localhost:8080/"
        },
        "id": "qO9_rOe2WOuU",
        "outputId": "763692d4-6a10-4e21-d5e2-e658eb834a81"
      },
      "outputs": [
        {
          "name": "stdout",
          "output_type": "stream",
          "text": [
            "                term \t         TF \t              TF-IDF\n",
            "\n",
            "               cepat \t 0.05555555555555555 \t 0.18895541009234196\n",
            "               lulus \t 0.05555555555555555 \t 0.12533694874217516\n",
            "               ambil \t 0.05555555555555555 \t 0.15901116005163712\n",
            "              magang \t 0.1111111111111111 \t 0.1337747560362151\n",
            "                 pas \t 0.05555555555555555 \t 0.20764831212685378\n",
            "               libur \t 0.05555555555555555 \t 0.23602751344718662\n",
            "              santai \t 0.05555555555555555 \t 0.23602751344718662\n",
            "                mbkm \t 0.05555555555555555 \t 0.0013387528655033622\n",
            "             lumayan \t 0.05555555555555555 \t 0.16914013542907905\n",
            "                uang \t 0.05555555555555555 \t 0.015806249871694548\n",
            "                saku \t 0.05555555555555555 \t 0.044656263802636924\n",
            "              jangka \t 0.05555555555555555 \t 0.258553352786529\n",
            "            instansi \t 0.05555555555555555 \t 0.20764831212685378\n",
            "               kasih \t 0.05555555555555555 \t 0.1099895389294997\n",
            "               nilai \t 0.05555555555555555 \t 0.20764831212685378\n",
            "              dampak \t 0.05555555555555555 \t 0.23602751344718662\n",
            "                 sks \t 0.05555555555555555 \t 0.13348158619727934\n"
          ]
        }
      ],
      "source": [
        "index = 30\n",
        "\n",
        "print('%20s' % \"term\", \"\\t\", '%10s' % \"TF\", \"\\t\", '%20s' % \"TF-IDF\\n\")\n",
        "for key in data[\"TF-IDF_dict\"][index]:\n",
        "    print('%20s' % key, \"\\t\", data[\"TF_dict\"][index][key] ,\"\\t\" , data[\"TF-IDF_dict\"][index][key])"
      ]
    },
    {
      "cell_type": "code",
      "execution_count": 26,
      "metadata": {
        "colab": {
          "base_uri": "https://localhost:8080/"
        },
        "id": "giruKUDtZBkL",
        "outputId": "3bdde0de-91ae-4736-8587-5419206440e6"
      },
      "outputs": [
        {
          "name": "stdout",
          "output_type": "stream",
          "text": [
            "print first row matrix TF_IDF_Vec Series\n",
            "\n",
            "[0.00109534325359366, 0.0, 0.0, 0.13859648051333695, 0.10385590102968208, 0.05472603656026982, 0.0, 0.0, 0.0, 0.09323957566877908, 0.0, 0.0, 0.10254841260723423, 0.0, 0.0, 0.22333961571102764, 0.1142679175755115, 0.0, 0.0, 0.0, 0.0, 0.0, 0.0, 0.0, 0.0, 0.0, 0.0, 0.0, 0.0, 0.0, 0.0, 0.0, 0.0, 0.0, 0.0, 0.0, 0.0, 0.0, 0.0, 0.0, 0.0, 0.0, 0.0, 0.0, 0.0, 0.1431764978809659, 0.0, 0.0, 0.0, 0.0, 0.0, 0.0, 0.0, 0.0, 0.0, 0.0, 0.0, 0.0, 0.0, 0.0, 0.0, 0.0, 0.15459988098464345, 0.0, 0.0, 0.0, 0.0, 0.0, 0.0, 0.0, 0.0, 0.0, 0.0, 0.0, 0.0, 0.0, 0.0, 0.0, 0.0, 0.16160673006770063, 0.0, 0.0, 0.0, 0.0, 0.0, 0.0, 0.0, 0.0, 0.0, 0.0, 0.0, 0.0, 0.0, 0.0, 0.0, 0.16989407355833494, 0.0, 0.0, 0.0, 0.0, 0.0, 0.0, 0.0, 0.0, 0.0, 0.0, 0.0, 0.0, 0.0, 0.0, 0.0, 0.0, 0.0, 0.0, 0.0, 0.0, 0.0, 0.0, 0.0, 0.0, 0.0, 0.0, 0.0, 0.0, 0.0, 0.18003696225443538, 0.18003696225443538, 0.18003696225443538, 0.0, 0.0, 0.0, 0.0, 0.0, 0.0, 0.0, 0.0, 0.0, 0.0, 0.0, 0.0, 0.0, 0.0, 0.0, 0.0, 0.0, 0.0, 0.0, 0.0, 0.0, 0.0, 0.0, 0.0, 0.0, 0.0, 0.0, 0.0, 0.0, 0.0, 0.0, 0.0, 0.0, 0.0, 0.0, 0.0, 0.0, 0.0, 0.0, 0.0, 0.0, 0.0, 0.0, 0.0, 0.0, 0.0, 0.0, 0.0, 0.19311342009315272, 0.0, 0.0, 0.0, 0.0, 0.0, 0.0, 0.0, 0.0, 0.0, 0.0, 0.0, 0.0, 0.0, 0.0, 0.0, 0.0, 0.0, 0.0, 0.0, 0.0, 0.0, 0.0, 0.0, 0.0, 0.0, 0.0, 0.0, 0.0, 0.0, 0.0, 0.0, 0.0, 0.0, 0.0, 0.0, 0.0, 0.0, 0.0, 0.0, 0.0, 0.0, 0.0, 0.0, 0.0, 0.0, 0.0, 0.0, 0.0, 0.0, 0.0, 0.0, 0.0, 0.0, 0.0, 0.0, 0.0, 0.0, 0.0, 0.0, 0.0, 0.0, 0.0, 0.0, 0.0, 0.0, 0.0, 0.0, 0.0, 0.0, 0.0, 0.0, 0.0, 0.0, 0.0, 0.0, 0.0, 0.0, 0.0, 0.0, 0.0, 0.0, 0.0, 0.0, 0.0, 0.0, 0.0, 0.0, 0.0, 0.0, 0.0, 0.0, 0.0, 0.0, 0.0, 0.0, 0.0, 0.0, 0.0, 0.0, 0.0, 0.0, 0.0, 0.0, 0.0, 0.0, 0.0, 0.0, 0.0, 0.0, 0.0, 0.0, 0.0, 0.0, 0.0, 0.0, 0.0, 0.0, 0.0, 0.0, 0.0, 0.0, 0.0, 0.0, 0.0, 0.0, 0.0, 0.0, 0.0, 0.0, 0.0, 0.0, 0.21154365227988742, 0.21154365227988742, 0.0, 0.0, 0.0, 0.0, 0.0, 0.0, 0.0, 0.0, 0.0, 0.0, 0.0, 0.0, 0.0, 0.0, 0.0, 0.0, 0.0, 0.0, 0.0, 0.0, 0.0, 0.0, 0.0, 0.0, 0.0, 0.0, 0.0, 0.0, 0.0, 0.0, 0.0, 0.0, 0.0, 0.0, 0.0, 0.0, 0.0, 0.0, 0.0, 0.0, 0.0, 0.0, 0.0, 0.0, 0.0, 0.0, 0.0, 0.0, 0.0, 0.0, 0.0, 0.0, 0.0, 0.0, 0.0, 0.0, 0.0, 0.0, 0.0, 0.0, 0.0, 0.0, 0.0, 0.0, 0.0, 0.0, 0.0, 0.0, 0.0, 0.0, 0.0, 0.0, 0.0, 0.0, 0.0, 0.0, 0.0, 0.0, 0.0, 0.0, 0.0, 0.0, 0.0, 0.0, 0.0, 0.0, 0.0, 0.0, 0.0, 0.0, 0.0, 0.0, 0.0, 0.0, 0.0, 0.0, 0.0, 0.0, 0.0, 0.0, 0.0, 0.0, 0.0, 0.0, 0.0, 0.0, 0.0, 0.0, 0.0, 0.0, 0.0, 0.0, 0.0, 0.0, 0.0, 0.0, 0.0, 0.0, 0.0, 0.0, 0.0, 0.0, 0.0, 0.0, 0.0, 0.0, 0.0, 0.0, 0.0, 0.0, 0.0, 0.0, 0.0, 0.0, 0.0, 0.0, 0.0, 0.0, 0.0, 0.0, 0.0, 0.0, 0.0, 0.0, 0.0, 0.0, 0.0, 0.0, 0.0, 0.0, 0.0, 0.0, 0.0, 0.0, 0.0, 0.0, 0.0, 0.0, 0.0, 0.0, 0.0, 0.0, 0.0, 0.0, 0.0, 0.0, 0.0, 0.0, 0.0, 0.0, 0.0, 0.0, 0.0, 0.0, 0.0, 0.0, 0.0, 0.0, 0.0, 0.0, 0.0, 0.0, 0.0, 0.0, 0.0, 0.0, 0.0, 0.0, 0.0, 0.0, 0.0, 0.0, 0.0, 0.0, 0.0, 0.0, 0.0, 0.0, 0.0, 0.0, 0.0, 0.0, 0.0, 0.0, 0.0, 0.0, 0.0, 0.0, 0.0, 0.0, 0.0, 0.0, 0.0, 0.0, 0.0, 0.0, 0.0, 0.0, 0.0, 0.0, 0.0, 0.0, 0.0, 0.0, 0.0, 0.0, 0.0, 0.0, 0.0, 0.0, 0.0, 0.0, 0.0, 0.0, 0.0, 0.0, 0.0, 0.0, 0.0, 0.0, 0.0, 0.0, 0.0, 0.0, 0.0, 0.0, 0.0, 0.0, 0.0, 0.0, 0.0, 0.0, 0.0, 0.0, 0.0, 0.0, 0.0, 0.0, 0.0, 0.0, 0.0, 0.0, 0.0, 0.0, 0.0, 0.0, 0.0, 0.0, 0.0, 0.0, 0.0, 0.0, 0.0, 0.0, 0.0, 0.0, 0.0, 0.0, 0.0, 0.0, 0.0, 0.0, 0.0, 0.0, 0.0, 0.0, 0.0, 0.0, 0.0, 0.0, 0.0, 0.0, 0.0, 0.0, 0.0, 0.0, 0.0, 0.0, 0.0, 0.0, 0.0, 0.0, 0.0, 0.0, 0.0, 0.0, 0.0, 0.0, 0.0, 0.0, 0.0, 0.0, 0.0, 0.0, 0.0, 0.0, 0.0, 0.0, 0.0, 0.0, 0.0, 0.0, 0.0, 0.0, 0.0, 0.0, 0.0, 0.0, 0.0, 0.0, 0.0, 0.0, 0.0, 0.0, 0.0, 0.0, 0.0, 0.0, 0.0, 0.0, 0.0, 0.0, 0.0, 0.0, 0.0, 0.0, 0.0, 0.0, 0.0, 0.0, 0.0, 0.0, 0.0, 0.0, 0.0, 0.0, 0.0, 0.0, 0.0, 0.0, 0.0, 0.0, 0.0, 0.0, 0.0, 0.0, 0.0, 0.0, 0.0, 0.0, 0.0, 0.0, 0.0, 0.0, 0.0, 0.0, 0.0, 0.0, 0.0, 0.0, 0.0, 0.0, 0.0, 0.0, 0.0, 0.0, 0.0, 0.0, 0.0, 0.0, 0.0, 0.0, 0.0, 0.0, 0.0, 0.0, 0.0, 0.0, 0.0, 0.0, 0.0, 0.0, 0.0, 0.0, 0.0, 0.0, 0.0, 0.0, 0.0, 0.0, 0.0, 0.0, 0.0, 0.0, 0.0, 0.0, 0.0, 0.0, 0.0, 0.0, 0.0, 0.0, 0.0, 0.0, 0.0, 0.0, 0.0, 0.0, 0.0, 0.0, 0.0, 0.0, 0.0, 0.0, 0.0, 0.0, 0.0, 0.0, 0.0, 0.0, 0.0, 0.0, 0.0, 0.0, 0.0, 0.0, 0.0, 0.0, 0.0, 0.0, 0.0, 0.0, 0.0, 0.0, 0.0, 0.0, 0.0, 0.0, 0.0, 0.0, 0.0, 0.0, 0.0, 0.0, 0.0, 0.0, 0.0, 0.0, 0.0, 0.0, 0.0, 0.0, 0.0, 0.0, 0.0, 0.0, 0.0, 0.0, 0.0, 0.0, 0.0, 0.0, 0.0, 0.0, 0.0, 0.0, 0.0, 0.0, 0.0, 0.0, 0.0, 0.0, 0.0, 0.0, 0.0, 0.0, 0.0, 0.0, 0.0, 0.0, 0.0, 0.0, 0.0, 0.0, 0.0, 0.0, 0.0, 0.0, 0.0, 0.0, 0.0, 0.0, 0.0, 0.0, 0.0, 0.0, 0.0, 0.0, 0.0, 0.0, 0.0, 0.0, 0.0, 0.0, 0.0, 0.0, 0.0, 0.0, 0.0, 0.0, 0.0, 0.0, 0.0, 0.0, 0.0, 0.0, 0.0, 0.0, 0.0, 0.0, 0.0, 0.0, 0.0, 0.0, 0.0, 0.0, 0.0, 0.0, 0.0, 0.0, 0.0]\n",
            "\n",
            "matrix size :  861\n"
          ]
        }
      ],
      "source": [
        "# sort descending by value for DF dictionary\n",
        "sorted_DF = sorted(DF.items(), key=lambda kv: kv[1], reverse=True)[:1500]\n",
        "\n",
        "# Create a list of unique words from sorted dictionay `sorted_DF`\n",
        "unique_term = [item[0] for item in sorted_DF]\n",
        "\n",
        "def calc_TF_IDF_Vec(__TF_IDF_Dict):\n",
        "    TF_IDF_vector = [0.0] * len(unique_term)\n",
        "\n",
        "    # For each unique word, if it is in the review, store its TF-IDF value.\n",
        "    for i, term in enumerate(unique_term):\n",
        "        if term in __TF_IDF_Dict:\n",
        "            TF_IDF_vector[i] = __TF_IDF_Dict[term]\n",
        "    return TF_IDF_vector\n",
        "\n",
        "data[\"TF_IDF_Vec\"] = data[\"TF-IDF_dict\"].apply(calc_TF_IDF_Vec)\n",
        "\n",
        "print(\"print first row matrix TF_IDF_Vec Series\\n\")\n",
        "print(data[\"TF_IDF_Vec\"][0])\n",
        "\n",
        "print(\"\\nmatrix size : \", len(data[\"TF_IDF_Vec\"][0]))"
      ]
    },
    {
      "cell_type": "code",
      "execution_count": 27,
      "metadata": {
        "id": "YGINcdOM0pzA"
      },
      "outputs": [],
      "source": [
        "data[\"TF_IDF_Vec\"].to_csv('d.csv')"
      ]
    },
    {
      "cell_type": "code",
      "execution_count": 28,
      "metadata": {
        "colab": {
          "base_uri": "https://localhost:8080/",
          "height": 423
        },
        "id": "_PRQKhaHY4Ro",
        "outputId": "e7e3ec8c-3908-4fbd-8500-ca8faf599e10"
      },
      "outputs": [
        {
          "data": {
            "text/html": [
              "<div>\n",
              "<style scoped>\n",
              "    .dataframe tbody tr th:only-of-type {\n",
              "        vertical-align: middle;\n",
              "    }\n",
              "\n",
              "    .dataframe tbody tr th {\n",
              "        vertical-align: top;\n",
              "    }\n",
              "\n",
              "    .dataframe thead th {\n",
              "        text-align: right;\n",
              "    }\n",
              "</style>\n",
              "<table border=\"1\" class=\"dataframe\">\n",
              "  <thead>\n",
              "    <tr style=\"text-align: right;\">\n",
              "      <th></th>\n",
              "      <th>term</th>\n",
              "      <th>rank</th>\n",
              "    </tr>\n",
              "  </thead>\n",
              "  <tbody>\n",
              "    <tr>\n",
              "      <th>7</th>\n",
              "      <td>cair</td>\n",
              "      <td>8.074453</td>\n",
              "    </tr>\n",
              "    <tr>\n",
              "      <th>2</th>\n",
              "      <td>saku</td>\n",
              "      <td>7.294669</td>\n",
              "    </tr>\n",
              "    <tr>\n",
              "      <th>3</th>\n",
              "      <td>kampus</td>\n",
              "      <td>6.356323</td>\n",
              "    </tr>\n",
              "    <tr>\n",
              "      <th>6</th>\n",
              "      <td>program</td>\n",
              "      <td>6.336019</td>\n",
              "    </tr>\n",
              "    <tr>\n",
              "      <th>5</th>\n",
              "      <td>magang</td>\n",
              "      <td>6.258305</td>\n",
              "    </tr>\n",
              "    <tr>\n",
              "      <th>...</th>\n",
              "      <td>...</td>\n",
              "      <td>...</td>\n",
              "    </tr>\n",
              "    <tr>\n",
              "      <th>395</th>\n",
              "      <td>anggap</td>\n",
              "      <td>0.160481</td>\n",
              "    </tr>\n",
              "    <tr>\n",
              "      <th>394</th>\n",
              "      <td>pola</td>\n",
              "      <td>0.160481</td>\n",
              "    </tr>\n",
              "    <tr>\n",
              "      <th>393</th>\n",
              "      <td>exchange</td>\n",
              "      <td>0.160481</td>\n",
              "    </tr>\n",
              "    <tr>\n",
              "      <th>392</th>\n",
              "      <td>student</td>\n",
              "      <td>0.160481</td>\n",
              "    </tr>\n",
              "    <tr>\n",
              "      <th>316</th>\n",
              "      <td>dua</td>\n",
              "      <td>0.160481</td>\n",
              "    </tr>\n",
              "  </tbody>\n",
              "</table>\n",
              "<p>861 rows × 2 columns</p>\n",
              "</div>"
            ],
            "text/plain": [
              "         term      rank\n",
              "7        cair  8.074453\n",
              "2        saku  7.294669\n",
              "3      kampus  6.356323\n",
              "6     program  6.336019\n",
              "5      magang  6.258305\n",
              "..        ...       ...\n",
              "395    anggap  0.160481\n",
              "394      pola  0.160481\n",
              "393  exchange  0.160481\n",
              "392   student  0.160481\n",
              "316       dua  0.160481\n",
              "\n",
              "[861 rows x 2 columns]"
            ]
          },
          "execution_count": 28,
          "metadata": {},
          "output_type": "execute_result"
        }
      ],
      "source": [
        "# Convert Series to List\n",
        "TF_IDF_Vec_List = np.array(data[\"TF_IDF_Vec\"].to_list())\n",
        "\n",
        "# Sum element vector in axis=0\n",
        "sums = TF_IDF_Vec_List.sum(axis=0)\n",
        "\n",
        "da = []\n",
        "\n",
        "for col, term in enumerate(unique_term):\n",
        "    da.append((term, sums[col]))\n",
        "\n",
        "ranking = pd.DataFrame(da, columns=['term', 'rank'])\n",
        "ranking.sort_values('rank', ascending=False)"
      ]
    },
    {
      "cell_type": "code",
      "execution_count": 29,
      "metadata": {
        "colab": {
          "base_uri": "https://localhost:8080/"
        },
        "id": "epJjcougt2ht",
        "outputId": "c3e7ec09-cdac-45d7-a137-b287a9cff7b3"
      },
      "outputs": [
        {
          "data": {
            "text/plain": [
              "array([[0.00109534, 0.        , 0.        , ..., 0.        , 0.        ,\n",
              "        0.        ],\n",
              "       [0.00109534, 0.        , 0.        , ..., 0.        , 0.        ,\n",
              "        0.        ],\n",
              "       [0.0014175 , 0.        , 0.        , ..., 0.        , 0.        ,\n",
              "        0.        ],\n",
              "       ...,\n",
              "       [0.0014175 , 0.03347206, 0.        , ..., 0.        , 0.        ,\n",
              "        0.        ],\n",
              "       [0.0015061 , 0.01778203, 0.        , ..., 0.        , 0.        ,\n",
              "        0.        ],\n",
              "       [0.00219069, 0.02586477, 0.07307389, ..., 0.4230873 , 0.4230873 ,\n",
              "        0.4230873 ]])"
            ]
          },
          "execution_count": 29,
          "metadata": {},
          "output_type": "execute_result"
        }
      ],
      "source": [
        "TF_IDF_Vec_List"
      ]
    },
    {
      "cell_type": "code",
      "execution_count": 30,
      "metadata": {
        "colab": {
          "base_uri": "https://localhost:8080/"
        },
        "id": "8bTbqL17LusT",
        "outputId": "205571ab-47cb-4dde-fa45-f6dcee549dec"
      },
      "outputs": [
        {
          "name": "stdout",
          "output_type": "stream",
          "text": [
            "------- TF-IDF on Tweet data -------\n",
            "TF-IDF  <class 'numpy.ndarray'> (210, 861)\n"
          ]
        }
      ],
      "source": [
        "from sklearn.feature_extraction.text import TfidfVectorizer\n",
        "\n",
        "# banyaknya term yang akan digunakan,\n",
        "# di pilih berdasarkan top max_features\n",
        "# yang diurutkan berdasarkan term frequency seluruh corpus\n",
        "max_features = 1000\n",
        "\n",
        "# Feature Engineering\n",
        "print (\"------- TF-IDF on Tweet data -------\")\n",
        "\n",
        "tf_idf = TfidfVectorizer(max_features=max_features, binary=True)\n",
        "tfidf_mat = tf_idf.fit_transform(df[\"text\"]).toarray()\n",
        "\n",
        "print(\"TF-IDF \", type(tfidf_mat), tfidf_mat.shape)"
      ]
    },
    {
      "cell_type": "code",
      "execution_count": 31,
      "metadata": {
        "colab": {
          "base_uri": "https://localhost:8080/",
          "height": 480
        },
        "id": "YOCQzkHwMA1z",
        "outputId": "57bdf92e-e576-416f-e438-cc27dd653f35"
      },
      "outputs": [
        {
          "data": {
            "text/html": [
              "<div>\n",
              "<style scoped>\n",
              "    .dataframe tbody tr th:only-of-type {\n",
              "        vertical-align: middle;\n",
              "    }\n",
              "\n",
              "    .dataframe tbody tr th {\n",
              "        vertical-align: top;\n",
              "    }\n",
              "\n",
              "    .dataframe thead th {\n",
              "        text-align: right;\n",
              "    }\n",
              "</style>\n",
              "<table border=\"1\" class=\"dataframe\">\n",
              "  <thead>\n",
              "    <tr style=\"text-align: right;\">\n",
              "      <th></th>\n",
              "      <th>term</th>\n",
              "      <th>rank</th>\n",
              "    </tr>\n",
              "  </thead>\n",
              "  <tbody>\n",
              "    <tr>\n",
              "      <th>473</th>\n",
              "      <td>mbkm</td>\n",
              "      <td>17.012071</td>\n",
              "    </tr>\n",
              "    <tr>\n",
              "      <th>821</th>\n",
              "      <td>uang</td>\n",
              "      <td>16.787556</td>\n",
              "    </tr>\n",
              "    <tr>\n",
              "      <th>647</th>\n",
              "      <td>saku</td>\n",
              "      <td>14.374423</td>\n",
              "    </tr>\n",
              "    <tr>\n",
              "      <th>330</th>\n",
              "      <td>kampus</td>\n",
              "      <td>10.600570</td>\n",
              "    </tr>\n",
              "    <tr>\n",
              "      <th>605</th>\n",
              "      <td>program</td>\n",
              "      <td>10.362637</td>\n",
              "    </tr>\n",
              "    <tr>\n",
              "      <th>...</th>\n",
              "      <td>...</td>\n",
              "      <td>...</td>\n",
              "    </tr>\n",
              "    <tr>\n",
              "      <th>610</th>\n",
              "      <td>psychology</td>\n",
              "      <td>0.233104</td>\n",
              "    </tr>\n",
              "    <tr>\n",
              "      <th>768</th>\n",
              "      <td>teacher</td>\n",
              "      <td>0.233104</td>\n",
              "    </tr>\n",
              "    <tr>\n",
              "      <th>624</th>\n",
              "      <td>ratarata</td>\n",
              "      <td>0.233104</td>\n",
              "    </tr>\n",
              "    <tr>\n",
              "      <th>103</th>\n",
              "      <td>born</td>\n",
              "      <td>0.233104</td>\n",
              "    </tr>\n",
              "    <tr>\n",
              "      <th>502</th>\n",
              "      <td>mom</td>\n",
              "      <td>0.233104</td>\n",
              "    </tr>\n",
              "  </tbody>\n",
              "</table>\n",
              "<p>861 rows × 2 columns</p>\n",
              "</div>"
            ],
            "text/plain": [
              "           term       rank\n",
              "473        mbkm  17.012071\n",
              "821        uang  16.787556\n",
              "647        saku  14.374423\n",
              "330      kampus  10.600570\n",
              "605     program  10.362637\n",
              "..          ...        ...\n",
              "610  psychology   0.233104\n",
              "768     teacher   0.233104\n",
              "624    ratarata   0.233104\n",
              "103        born   0.233104\n",
              "502         mom   0.233104\n",
              "\n",
              "[861 rows x 2 columns]"
            ]
          },
          "execution_count": 31,
          "metadata": {},
          "output_type": "execute_result"
        }
      ],
      "source": [
        "terms = tf_idf.get_feature_names_out()\n",
        "\n",
        "# sum tfidf frequency of each term through documents\n",
        "sums = tfidf_mat.sum(axis=0)\n",
        "\n",
        "# connecting term to its sums frequency\n",
        "data = []\n",
        "for col, term in enumerate(terms):\n",
        "    data.append((term, sums[col] ))\n",
        "\n",
        "ranking = pd.DataFrame(data, columns=['term','rank'])\n",
        "ranking.sort_values('rank', ascending=False)"
      ]
    },
    {
      "cell_type": "markdown",
      "metadata": {
        "id": "0gaMxwY2H4mE"
      },
      "source": [
     
    },
    {
      "cell_type": "code",
      "execution_count": 32,
      "metadata": {},
      "outputs": [
        {
          "name": "stdout",
          "output_type": "stream",
          "text": [
            "['absensi' 'acara' 'ada' 'adik' 'administratif' 'aduh' 'advokasi' 'ain'\n",
            " 'ajak' 'ajar' 'aju' 'akan' 'akhir' 'akomodasi' 'akses' 'aktif' 'akun'\n",
            " 'alam' 'alas' 'alias' 'allah' 'alumni' 'alur' 'aman' 'amanah' 'amattt'\n",
            " 'ambil' 'amin' 'amuk' 'anak' 'aneh' 'anggap' 'anggota' 'angkat'\n",
            " 'angkatanv' 'anjim' 'apa' 'asa' 'asih' 'asistensi' 'asprak' 'astaga'\n",
            " 'asyik' 'atas' 'atur' 'auto' 'ayah' 'ayo' 'baca' 'bacaa' 'badan' 'bagi'\n",
            " 'bagus' 'bahagia' 'bahan' 'bahasa' 'baik' 'bakar' 'balik' 'banding'\n",
            " 'bandung' 'banget' 'bangkit' 'bangun' 'bank' 'banting' 'bantu' 'banyak'\n",
            " 'barat' 'bareng' 'batasin' 'batch' 'bayar' 'bbhnya' 'bbm' 'be' 'beasiswa'\n",
            " 'beban' 'bebas' 'beda' 'beliau' 'benefit' 'benefitnya' 'benefits'\n",
            " 'benerbener' 'bensin' 'berat' 'berbulanbulan' 'berkas' 'besar' 'besok'\n",
            " 'biar' 'biaya' 'bidang' 'bidikmisi' 'bijak' 'bilang' 'bina' 'bingung'\n",
            " 'bio' 'birokrasi' 'bisa' 'booklet' 'born' 'broadcast' 'buang' 'budak'\n",
            " 'budaya' 'budget' 'budi' 'buka' 'bukti' 'bulan' 'buntung' 'buru' 'buruh'\n",
            " 'buruk' 'buta' 'butuh' 'buy' 'by' 'cadang' 'cair' 'call' 'cantik' 'capai'\n",
            " 'capek' 'cari' 'case' 'cek' 'cenderung' 'cepat' 'cerdas' 'cerita'\n",
            " 'cetera' 'cicilanpotongan' 'coba' 'cocok' 'contact' 'convert' 'covid'\n",
            " 'cuman' 'cv' 'cvdapat' 'dada' 'daerah' 'daftar' 'dampak' 'dan' 'dana'\n",
            " 'dapat' 'dapetcek' 'dasar' 'dashboard' 'data' 'degdegan' 'dekat' 'dendam'\n",
            " 'dengar' 'depan' 'desa' 'dewan' 'di' 'diaebih' 'dibukaa' 'diconvert'\n",
            " 'didapetin' 'didebatin' 'didik' 'diglorifikasi' 'dihancurin'\n",
            " 'dihandlenya' 'dijaikan' 'dijanjiinpun' 'dikembaliin' 'dikolektifin'\n",
            " 'dikosan' 'dikti' 'dipakaein' 'dipidanain' 'dipinjem' 'direct' 'direktur'\n",
            " 'diri' 'diterusin' 'doa' 'doable' 'domisili' 'dosen' 'doswal' 'double'\n",
            " 'dpl' 'dpnnya' 'drisitu' 'dua' 'dukung' 'durasi' 'educational' 'ekonomi'\n",
            " 'eksekutif' 'ekspetasiku' 'eksplor' 'enak' 'enggak' 'entar' 'error'\n",
            " 'erti' 'et' 'exchange' 'exposurenya' 'fakultas' 'famili' 'fasilitas'\n",
            " 'februari' 'flagship' 'fleksibel' 'fokus' 'for' 'format' 'freelance'\n",
            " 'fulltime' 'gabung' 'gaenaknya' 'gais' 'gaji' 'gambling' 'gampang'\n",
            " 'gantung' 'gara' 'gas' 'general' 'giat' 'gift' 'gila' 'gituawalnya'\n",
            " 'goyah' 'gratis' 'great' 'gugur' 'guru' 'habis' 'haha' 'hai' 'hak'\n",
            " 'handle' 'haram' 'harap' 'hari' 'haru' 'hashtagnya' 'hasil' 'hasut'\n",
            " 'hati' 'hebat' 'heran' 'hidup' 'hilal' 'hima' 'hoki' 'holaaa' 'hore'\n",
            " 'hubung' 'hybrid' 'ide' 'iesp' 'ikhlas' 'ikut' 'ilmu' 'ilmupengalaman'\n",
            " 'im' 'implementasi' 'indeks' 'independen' 'indonesia' 'informasi'\n",
            " 'information' 'inggris' 'ingin' 'insentif' 'insights' 'instagram'\n",
            " 'instansi' 'institut' 'insyaa' 'intensif' 'intensive' 'interested'\n",
            " 'internal' 'inti' 'irs' 'isi' 'isu' 'itu' 'iur' 'iyabisa' 'izin' 'jadi'\n",
            " 'jajan' 'jakarta' 'jalan' 'jalur' 'jaman' 'jamin' 'jangka' 'janji'\n",
            " 'januari' 'jatah' 'jaya' 'jelek' 'jenderal' 'jenis' 'jeon' 'jobdesknya'\n",
            " 'joinnya' 'jual' 'judul' 'jujur' 'juli' 'jumpa' 'jungkook' 'junior'\n",
            " 'jurus' 'juta' 'jutaanbulan' 'kabar' 'kadang' 'kaget' 'kait' 'kakak'\n",
            " 'kali' 'kampus' 'kampusmengajar' 'kamu' 'kapai' 'kapitalis' 'kaprodi'\n",
            " 'karena' 'karyawannya' 'kasih' 'kasihan' 'kaya' 'kayak' 'ke' 'kecuali'\n",
            " 'kelarin' 'kelarlalu' 'kelas' 'keluar' 'keluarga' 'keluh' 'kemarin'\n",
            " 'kembali' 'kemdikburistek' 'kemendikbud' 'kemendikbudristek' 'kena'\n",
            " 'kendala' 'kentank' 'kepala' 'keren' 'kerja' 'kesal' 'kesana' 'ketat'\n",
            " 'ketua' 'khawatir' 'kini' 'kipk' 'kirim' 'kkmi' 'kkn' 'klaim' 'klik'\n",
            " 'kmfeb' 'komen' 'kompetensi' 'komplit' 'konsekuensi' 'konserrr'\n",
            " 'konsisten' 'konsultasi' 'konsumsi' 'konversi' 'koordinator' 'korban'\n",
            " 'koreksi' 'korupsi' 'koruptor' 'kos' 'kota' 'kreativitas' 'kredensial'\n",
            " 'krs' 'kru' 'kuat' 'kuliah' 'kumpul' 'kumulatif' 'kuota' 'kurang'\n",
            " 'kurikulum' 'kurung' 'lain' 'laksana' 'laman' 'lamar' 'lambat' 'lancar'\n",
            " 'langit' 'langsung' 'lanjut' 'lapang' 'lapor' 'laporannnya' 'laptop'\n",
            " 'layak' 'lebih' 'lelah' 'lembaga' 'libur' 'lihat' 'linear' 'lingkung'\n",
            " 'literasi' 'logbook' 'loh' 'lokasi' 'lokernya' 'lolos'\n",
            " 'lombambkmpmmbkmmi' 'lpdp' 'luang' 'luar' 'luhur' 'lulus' 'lumayan'\n",
            " 'lunas' 'lupa' 'maaf' 'magang' 'magangkampus' 'magangmerdeka' 'mahal'\n",
            " 'mahasiswa' 'main' 'makan' 'maks' 'maksud' 'makul' 'malam' 'malas' 'mama'\n",
            " 'mana' 'manage' 'manajemen' 'mandiri' 'manfaat' 'manifesting' 'mantap'\n",
            " 'manual' 'manusia' 'mari' 'maribelajar' 'maruk' 'mas' 'masalah'\n",
            " 'masingmasing' 'masuk' 'masyallah' 'masyarakat' 'mata' 'materi' 'mau'\n",
            " 'mbkm' 'mbkmkampus' 'mbkmmerdeka' 'mbkmmsib' 'mbkmnya' 'mei' 'melulu'\n",
            " 'memvasilitasi' 'menang' 'mengajarmagang' 'menteri' 'mentor' 'merdeka'\n",
            " 'message' 'mesti' 'mikro' 'milik' 'min' 'minat' 'minggu' 'mini' 'minimal'\n",
            " 'minimum' 'minyak' 'miskin' 'mitra' 'moga' 'mohon' 'molor' 'mom' 'msib'\n",
            " 'msibkamjar' 'msibmbkm' 'mudah' 'my' 'nalangin' 'nama' 'nangez' 'negara'\n",
            " 'negeri' 'ngadet' 'ngandelin' 'ngelengkapin' 'ngembaliin' 'niat' 'nih'\n",
            " 'nilai' 'nizam' 'nombok' 'nominal' 'non' 'normalisasi' 'notifikasi'\n",
            " 'numerasi' 'nyairin' 'nyata' 'nyeletuk' 'obrakabrik' 'of' 'offering'\n",
            " 'official' 'offline' 'ogah' 'okok' 'omel' 'one' 'online' 'oportunitas'\n",
            " 'optimis' 'orang' 'organ' 'organisasi' 'organisasipanit' 'orientasi'\n",
            " 'otomatis' 'over' 'overall' 'pagi' 'paham' 'pahit' 'pajak' 'pakai'\n",
            " 'palsu' 'pangkal' 'panitia' 'panjang' 'pantau' 'paras' 'parttime' 'pas'\n",
            " 'passion' 'pasti' 'paudtk' 'pegang' 'pegawai' 'pekan' 'peluang'\n",
            " 'penasaran' 'pengalamanisi' 'pengaruh' 'pengin' 'penuh' 'pergi'\n",
            " 'perintah' 'permisi' 'persetan' 'person' 'perusahaanya' 'pesawat'\n",
            " 'petisi' 'pikir' 'pilih' 'pimnas' 'pinjam' 'pjawa' 'plosok' 'pol' 'pola'\n",
            " 'portfolio' 'posisi' 'positif' 'poster' 'potong' 'ppa' 'ppkm' 'ppl'\n",
            " 'praktikum' 'prestasi' 'pribadi' 'problem' 'prodimu' 'prodinya' 'program'\n",
            " 'prokernya' 'proposal' 'proses' 'proyek' 'psychology' 'puji' 'pulang'\n",
            " 'punya' 'pure' 'pusing' 'ragu' 'rakyat' 'ram' 'ramai' 'rangenya' 'rantau'\n",
            " 'rasa' 'rasai' 'ratarata' 'ratus' 'rbhari' 'real' 'realisasi' 'regional'\n",
            " 'reguler' 'rehabilitasi' 'rekognisi' 'rekrutmen' 'relasi' 'rem' 'respon'\n",
            " 'resti' 'ribu' 'ringan' 'rintis' 'riset' 'rugi' 'rutin' 'sabar' 'sager'\n",
            " 'sakit' 'saku' 'sakunyaa' 'sakutransport' 'sakuuang' 'salah' 'salary'\n",
            " 'sama' 'samasama' 'sambat' 'samping' 'sample' 'sangka' 'sangon' 'santai'\n",
            " 'saran' 'sasing' 'satu' 'sayang' 'sdsmp' 'sedia' 'seharihari' 'sehat'\n",
            " 'sekali' 'sekarat' 'sekian' 'sekolah' 'selamat' 'seleksi' 'selenggara'\n",
            " 'selesai' 'semangat' 'semarang' 'semester' 'semestter' 'seminar' 'sempat'\n",
            " 'sempro' 'sendiri' 'sendiripengajuan' 'sengaja' 'senin' 'sepakat' 'serah'\n",
            " 'seribet' 'seringkali' 'serta' 'sertif' 'sertifikat' 'seru' 'sesal'\n",
            " 'sesuai' 'sharing' 'siap' 'sibuk' 'sidang' 'sih' 'simpan' 'simpel'\n",
            " 'singkat' 'sini' 'sip' 'sisa' 'sisi' 'sistem' 'siswa' 'situ' 'situs'\n",
            " 'skill' 'skripshit' 'skripsi' 'sks' 'sksuang' 'snk' 'sobat' 'sogok'\n",
            " 'some' 'sosial' 'sosialisasi' 'sptjm' 'sr' 'stabilnaik' 'status' 'stres'\n",
            " 'student' 'studi' 'stupen' 'stupend' 'suara' 'suasana' 'subsidi' 'suka'\n",
            " 'sukses' 'sulit' 'sumberdaya' 'sumpah' 'sungguh' 'super' 'suport'\n",
            " 'surabaya' 'sure' 'suruh' 'susah' 'susul' 'swadaya' 'syarat' 'syukur'\n",
            " 'tabung' 'tahan' 'tahu' 'tambah' 'tanam' 'tanda' 'tangan' 'tanggal'\n",
            " 'tantetanteku' 'tara' 'target' 'tarik' 'taruh' 'tau' 'taut' 'teacher'\n",
            " 'teh' 'teknik' 'teknologi' 'telat' 'teliti' 'teman' 'temenamprelasi'\n",
            " 'tempat' 'tenaga' 'tenang' 'tengah' 'tepat' 'tera' 'teriak' 'terima'\n",
            " 'terjun' 'termin' 'terus' 'tes' 'teteh' 'the' 'them' 'think' 'tidak'\n",
            " 'tiket' 'tim' 'timpa' 'tinggal' 'tingkat' 'tip' 'tipes' 'told' 'tolong'\n",
            " 'tonton' 'total' 'traktir' 'transfer' 'transport' 'transportasi'\n",
            " 'transportmakan' 'tua' 'tugas' 'tuhan' 'tuju' 'tukar' 'tulang' 'tunggu'\n",
            " 'tunjang' 'tuntas' 'turun' 'turut' 'tutup' 'uang' 'uangpengalamanbisa'\n",
            " 'uangsakumempermudah' 'ubah' 'uji' 'ujung' 'ukt' 'undang' 'underpaid'\n",
            " 'unggah' 'universitas' 'unjung' 'untung' 'up' 'upah' 'upil' 'upp' 'urus'\n",
            " 'usah' 'usaha' 'utbk' 'video' 'vokasi' 'volunteer' 'voluntercomunity'\n",
            " 'wajib' 'waktu' 'wali' 'warga' 'way' 'webnya' 'websitenya' 'wih' 'will'\n",
            " 'wisuda' 'worth' 'would' 'your' 'youtube' 'yudisium']\n"
          ]
        }
      ],
      "source": [
        "from sklearn.feature_extraction.text import CountVectorizer\n",
        "\n",
        "# Instantiate CountVectorizer object\n",
        "count_vectorizer = CountVectorizer()\n",
        "\n",
        "# Fit and transform your data using the vectorizer\n",
        "vector_matrix = count_vectorizer.fit_transform(df['text'])\n",
        "\n",
        "# Retrieve the feature names\n",
        "tokens = count_vectorizer.get_feature_names_out()\n",
        "\n",
        "# Print the feature names\n",
        "print(tokens)\n"
      ]
    },
    {
      "cell_type": "code",
      "execution_count": 33,
      "metadata": {
        "colab": {
          "base_uri": "https://localhost:8080/"
        },
        "id": "Y2HT6KO5XeoH",
        "outputId": "06d97d0e-7c98-4df1-bdb2-23cb6a5f0b28"
      },
      "outputs": [
        {
          "data": {
            "text/plain": [
              "array([[0, 0, 0, ..., 0, 0, 0],\n",
              "       [0, 0, 0, ..., 0, 0, 0],\n",
              "       [0, 0, 0, ..., 0, 0, 0],\n",
              "       ...,\n",
              "       [0, 0, 0, ..., 0, 0, 0],\n",
              "       [0, 0, 0, ..., 0, 0, 0],\n",
              "       [0, 0, 0, ..., 0, 0, 0]], dtype=int64)"
            ]
          },
          "execution_count": 33,
          "metadata": {},
          "output_type": "execute_result"
        }
      ],
      "source": [
        "vector_matrix.toarray()"
      ]
    },
    {
      "cell_type": "code",
      "execution_count": 34,
      "metadata": {
        "id": "TEbvt0dhXhIM"
      },
      "outputs": [],
      "source": [
        "import pandas as pd\n",
        "\n",
        "def create_dataframe(matrix, tokens):\n",
        "\n",
        "    doc_names = [f'doc_{i+1}' for i, _ in enumerate(matrix)]\n",
        "    df = pd.DataFrame(data=matrix, index=doc_names, columns=tokens)\n",
        "    return(df)"
      ]
    },
    {
      "cell_type": "code",
      "execution_count": 35,
      "metadata": {
        "id": "ME0JQS9jXj0Y"
      },
      "outputs": [
        {
          "data": {
            "text/html": [
              "<div>\n",
              "<style scoped>\n",
              "    .dataframe tbody tr th:only-of-type {\n",
              "        vertical-align: middle;\n",
              "    }\n",
              "\n",
              "    .dataframe tbody tr th {\n",
              "        vertical-align: top;\n",
              "    }\n",
              "\n",
              "    .dataframe thead th {\n",
              "        text-align: right;\n",
              "    }\n",
              "</style>\n",
              "<table border=\"1\" class=\"dataframe\">\n",
              "  <thead>\n",
              "    <tr style=\"text-align: right;\">\n",
              "      <th></th>\n",
              "      <th>absensi</th>\n",
              "      <th>acara</th>\n",
              "      <th>ada</th>\n",
              "      <th>adik</th>\n",
              "      <th>administratif</th>\n",
              "      <th>aduh</th>\n",
              "      <th>advokasi</th>\n",
              "      <th>ain</th>\n",
              "      <th>ajak</th>\n",
              "      <th>ajar</th>\n",
              "      <th>...</th>\n",
              "      <th>webnya</th>\n",
              "      <th>websitenya</th>\n",
              "      <th>wih</th>\n",
              "      <th>will</th>\n",
              "      <th>wisuda</th>\n",
              "      <th>worth</th>\n",
              "      <th>would</th>\n",
              "      <th>your</th>\n",
              "      <th>youtube</th>\n",
              "      <th>yudisium</th>\n",
              "    </tr>\n",
              "  </thead>\n",
              "  <tbody>\n",
              "    <tr>\n",
              "      <th>doc_1</th>\n",
              "      <td>0</td>\n",
              "      <td>0</td>\n",
              "      <td>0</td>\n",
              "      <td>0</td>\n",
              "      <td>0</td>\n",
              "      <td>0</td>\n",
              "      <td>0</td>\n",
              "      <td>0</td>\n",
              "      <td>0</td>\n",
              "      <td>2</td>\n",
              "      <td>...</td>\n",
              "      <td>0</td>\n",
              "      <td>0</td>\n",
              "      <td>0</td>\n",
              "      <td>0</td>\n",
              "      <td>0</td>\n",
              "      <td>0</td>\n",
              "      <td>0</td>\n",
              "      <td>0</td>\n",
              "      <td>0</td>\n",
              "      <td>0</td>\n",
              "    </tr>\n",
              "    <tr>\n",
              "      <th>doc_2</th>\n",
              "      <td>0</td>\n",
              "      <td>0</td>\n",
              "      <td>0</td>\n",
              "      <td>0</td>\n",
              "      <td>0</td>\n",
              "      <td>0</td>\n",
              "      <td>0</td>\n",
              "      <td>0</td>\n",
              "      <td>0</td>\n",
              "      <td>1</td>\n",
              "      <td>...</td>\n",
              "      <td>0</td>\n",
              "      <td>0</td>\n",
              "      <td>0</td>\n",
              "      <td>0</td>\n",
              "      <td>0</td>\n",
              "      <td>1</td>\n",
              "      <td>0</td>\n",
              "      <td>0</td>\n",
              "      <td>0</td>\n",
              "      <td>0</td>\n",
              "    </tr>\n",
              "    <tr>\n",
              "      <th>doc_3</th>\n",
              "      <td>0</td>\n",
              "      <td>0</td>\n",
              "      <td>0</td>\n",
              "      <td>0</td>\n",
              "      <td>0</td>\n",
              "      <td>0</td>\n",
              "      <td>0</td>\n",
              "      <td>0</td>\n",
              "      <td>0</td>\n",
              "      <td>1</td>\n",
              "      <td>...</td>\n",
              "      <td>0</td>\n",
              "      <td>0</td>\n",
              "      <td>0</td>\n",
              "      <td>0</td>\n",
              "      <td>0</td>\n",
              "      <td>0</td>\n",
              "      <td>0</td>\n",
              "      <td>0</td>\n",
              "      <td>0</td>\n",
              "      <td>0</td>\n",
              "    </tr>\n",
              "    <tr>\n",
              "      <th>doc_4</th>\n",
              "      <td>0</td>\n",
              "      <td>0</td>\n",
              "      <td>0</td>\n",
              "      <td>0</td>\n",
              "      <td>0</td>\n",
              "      <td>0</td>\n",
              "      <td>0</td>\n",
              "      <td>0</td>\n",
              "      <td>0</td>\n",
              "      <td>0</td>\n",
              "      <td>...</td>\n",
              "      <td>0</td>\n",
              "      <td>0</td>\n",
              "      <td>0</td>\n",
              "      <td>0</td>\n",
              "      <td>0</td>\n",
              "      <td>0</td>\n",
              "      <td>0</td>\n",
              "      <td>0</td>\n",
              "      <td>0</td>\n",
              "      <td>0</td>\n",
              "    </tr>\n",
              "    <tr>\n",
              "      <th>doc_5</th>\n",
              "      <td>0</td>\n",
              "      <td>0</td>\n",
              "      <td>0</td>\n",
              "      <td>0</td>\n",
              "      <td>0</td>\n",
              "      <td>0</td>\n",
              "      <td>0</td>\n",
              "      <td>0</td>\n",
              "      <td>0</td>\n",
              "      <td>0</td>\n",
              "      <td>...</td>\n",
              "      <td>0</td>\n",
              "      <td>0</td>\n",
              "      <td>0</td>\n",
              "      <td>0</td>\n",
              "      <td>0</td>\n",
              "      <td>0</td>\n",
              "      <td>0</td>\n",
              "      <td>0</td>\n",
              "      <td>0</td>\n",
              "      <td>0</td>\n",
              "    </tr>\n",
              "    <tr>\n",
              "      <th>...</th>\n",
              "      <td>...</td>\n",
              "      <td>...</td>\n",
              "      <td>...</td>\n",
              "      <td>...</td>\n",
              "      <td>...</td>\n",
              "      <td>...</td>\n",
              "      <td>...</td>\n",
              "      <td>...</td>\n",
              "      <td>...</td>\n",
              "      <td>...</td>\n",
              "      <td>...</td>\n",
              "      <td>...</td>\n",
              "      <td>...</td>\n",
              "      <td>...</td>\n",
              "      <td>...</td>\n",
              "      <td>...</td>\n",
              "      <td>...</td>\n",
              "      <td>...</td>\n",
              "      <td>...</td>\n",
              "      <td>...</td>\n",
              "      <td>...</td>\n",
              "    </tr>\n",
              "    <tr>\n",
              "      <th>doc_206</th>\n",
              "      <td>0</td>\n",
              "      <td>0</td>\n",
              "      <td>0</td>\n",
              "      <td>0</td>\n",
              "      <td>0</td>\n",
              "      <td>0</td>\n",
              "      <td>0</td>\n",
              "      <td>0</td>\n",
              "      <td>0</td>\n",
              "      <td>0</td>\n",
              "      <td>...</td>\n",
              "      <td>0</td>\n",
              "      <td>0</td>\n",
              "      <td>0</td>\n",
              "      <td>0</td>\n",
              "      <td>0</td>\n",
              "      <td>0</td>\n",
              "      <td>0</td>\n",
              "      <td>0</td>\n",
              "      <td>0</td>\n",
              "      <td>0</td>\n",
              "    </tr>\n",
              "    <tr>\n",
              "      <th>doc_207</th>\n",
              "      <td>0</td>\n",
              "      <td>0</td>\n",
              "      <td>0</td>\n",
              "      <td>0</td>\n",
              "      <td>0</td>\n",
              "      <td>0</td>\n",
              "      <td>0</td>\n",
              "      <td>0</td>\n",
              "      <td>0</td>\n",
              "      <td>0</td>\n",
              "      <td>...</td>\n",
              "      <td>0</td>\n",
              "      <td>0</td>\n",
              "      <td>0</td>\n",
              "      <td>0</td>\n",
              "      <td>0</td>\n",
              "      <td>0</td>\n",
              "      <td>0</td>\n",
              "      <td>0</td>\n",
              "      <td>1</td>\n",
              "      <td>0</td>\n",
              "    </tr>\n",
              "    <tr>\n",
              "      <th>doc_208</th>\n",
              "      <td>0</td>\n",
              "      <td>0</td>\n",
              "      <td>0</td>\n",
              "      <td>0</td>\n",
              "      <td>0</td>\n",
              "      <td>0</td>\n",
              "      <td>0</td>\n",
              "      <td>0</td>\n",
              "      <td>0</td>\n",
              "      <td>0</td>\n",
              "      <td>...</td>\n",
              "      <td>0</td>\n",
              "      <td>0</td>\n",
              "      <td>0</td>\n",
              "      <td>0</td>\n",
              "      <td>0</td>\n",
              "      <td>0</td>\n",
              "      <td>0</td>\n",
              "      <td>0</td>\n",
              "      <td>0</td>\n",
              "      <td>0</td>\n",
              "    </tr>\n",
              "    <tr>\n",
              "      <th>doc_209</th>\n",
              "      <td>0</td>\n",
              "      <td>0</td>\n",
              "      <td>0</td>\n",
              "      <td>1</td>\n",
              "      <td>0</td>\n",
              "      <td>0</td>\n",
              "      <td>0</td>\n",
              "      <td>0</td>\n",
              "      <td>0</td>\n",
              "      <td>0</td>\n",
              "      <td>...</td>\n",
              "      <td>0</td>\n",
              "      <td>0</td>\n",
              "      <td>0</td>\n",
              "      <td>0</td>\n",
              "      <td>0</td>\n",
              "      <td>0</td>\n",
              "      <td>0</td>\n",
              "      <td>0</td>\n",
              "      <td>0</td>\n",
              "      <td>0</td>\n",
              "    </tr>\n",
              "    <tr>\n",
              "      <th>doc_210</th>\n",
              "      <td>0</td>\n",
              "      <td>0</td>\n",
              "      <td>0</td>\n",
              "      <td>0</td>\n",
              "      <td>0</td>\n",
              "      <td>0</td>\n",
              "      <td>0</td>\n",
              "      <td>0</td>\n",
              "      <td>0</td>\n",
              "      <td>0</td>\n",
              "      <td>...</td>\n",
              "      <td>0</td>\n",
              "      <td>0</td>\n",
              "      <td>0</td>\n",
              "      <td>0</td>\n",
              "      <td>0</td>\n",
              "      <td>0</td>\n",
              "      <td>0</td>\n",
              "      <td>0</td>\n",
              "      <td>0</td>\n",
              "      <td>0</td>\n",
              "    </tr>\n",
              "  </tbody>\n",
              "</table>\n",
              "<p>210 rows × 861 columns</p>\n",
              "</div>"
            ],
            "text/plain": [
              "         absensi  acara  ada  adik  administratif  aduh  advokasi  ain  ajak  \\\n",
              "doc_1          0      0    0     0              0     0         0    0     0   \n",
              "doc_2          0      0    0     0              0     0         0    0     0   \n",
              "doc_3          0      0    0     0              0     0         0    0     0   \n",
              "doc_4          0      0    0     0              0     0         0    0     0   \n",
              "doc_5          0      0    0     0              0     0         0    0     0   \n",
              "...          ...    ...  ...   ...            ...   ...       ...  ...   ...   \n",
              "doc_206        0      0    0     0              0     0         0    0     0   \n",
              "doc_207        0      0    0     0              0     0         0    0     0   \n",
              "doc_208        0      0    0     0              0     0         0    0     0   \n",
              "doc_209        0      0    0     1              0     0         0    0     0   \n",
              "doc_210        0      0    0     0              0     0         0    0     0   \n",
              "\n",
              "         ajar  ...  webnya  websitenya  wih  will  wisuda  worth  would  your  \\\n",
              "doc_1       2  ...       0           0    0     0       0      0      0     0   \n",
              "doc_2       1  ...       0           0    0     0       0      1      0     0   \n",
              "doc_3       1  ...       0           0    0     0       0      0      0     0   \n",
              "doc_4       0  ...       0           0    0     0       0      0      0     0   \n",
              "doc_5       0  ...       0           0    0     0       0      0      0     0   \n",
              "...       ...  ...     ...         ...  ...   ...     ...    ...    ...   ...   \n",
              "doc_206     0  ...       0           0    0     0       0      0      0     0   \n",
              "doc_207     0  ...       0           0    0     0       0      0      0     0   \n",
              "doc_208     0  ...       0           0    0     0       0      0      0     0   \n",
              "doc_209     0  ...       0           0    0     0       0      0      0     0   \n",
              "doc_210     0  ...       0           0    0     0       0      0      0     0   \n",
              "\n",
              "         youtube  yudisium  \n",
              "doc_1          0         0  \n",
              "doc_2          0         0  \n",
              "doc_3          0         0  \n",
              "doc_4          0         0  \n",
              "doc_5          0         0  \n",
              "...          ...       ...  \n",
              "doc_206        0         0  \n",
              "doc_207        1         0  \n",
              "doc_208        0         0  \n",
              "doc_209        0         0  \n",
              "doc_210        0         0  \n",
              "\n",
              "[210 rows x 861 columns]"
            ]
          },
          "execution_count": 35,
          "metadata": {},
          "output_type": "execute_result"
        }
      ],
      "source": [
        "d = create_dataframe(vector_matrix.toarray(),tokens)\n",
        "d"
      ]
    },
    {
      "cell_type": "code",
      "execution_count": 36,
      "metadata": {
        "id": "NIhNyvCjQkBV"
      },
      "outputs": [],
      "source": [
        "d.to_csv('tf.csv',sep=';')"
      ]
    },
    {
      "cell_type": "code",
      "execution_count": 37,
      "metadata": {
        "id": "I7FLiABjXnhN"
      },
      "outputs": [],
      "source": [
        "from sklearn.metrics.pairwise import cosine_similarity\n",
        "\n",
        "cosine_similarity_matrix = cosine_similarity(vector_matrix)\n",
        "cs = create_dataframe(cosine_similarity_matrix,df['text'])"
      ]
    },
    {
      "cell_type": "code",
      "execution_count": 38,
      "metadata": {
        "colab": {
          "base_uri": "https://localhost:8080/"
        },
        "id": "Z5kb3DJgkeBD",
        "outputId": "5556843b-20a1-42bc-af70-266a7af57a73"
      },
      "outputs": [],
      "source": [
        "upper = cs.where(np.triu(np.ones(cs.shape), k=1).astype(np.bool_))"
      ]
    },
    {
      "cell_type": "code",
      "execution_count": 39,
      "metadata": {
        "id": "hTUXRjjqk045"
      },
      "outputs": [],
      "source": [
        "#temukan feature dengan correlation diatas 0.9\n",
        "\n",
        "to_drop = [column for column in upper.columns if any(upper[column] > 0.9)]\n",
        "\n",
        "for ls in to_drop:\n",
        "  paramater=cs.drop([ls],axis=1)"
      ]
    },
    {
      "cell_type": "code",
      "execution_count": 40,
      "metadata": {
        "colab": {
          "base_uri": "https://localhost:8080/"
        },
        "id": "3xWkTCK8oOZt",
        "outputId": "db957cbd-fb23-4cdc-8921-5b6a4ddd28fa"
      },
      "outputs": [
        {
          "data": {
            "text/plain": [
              "0"
            ]
          },
          "execution_count": 40,
          "metadata": {},
          "output_type": "execute_result"
        }
      ],
      "source": [
        "len(to_drop)"
      ]
    },
    {
      "cell_type": "code",
      "execution_count": 41,
      "metadata": {
        "colab": {
          "base_uri": "https://localhost:8080/"
        },
        "id": "0CVyqa22pZix",
        "outputId": "dcbfc4bd-c811-4a0d-95a0-9572625bc7f1"
      },
      "outputs": [],
      "source": [
        "from sklearn.feature_extraction.text import TfidfVectorizer\n",
        "\n",
        "Tfidf_vect = TfidfVectorizer()\n",
        "vector_matrix = Tfidf_vect.fit_transform(df['text'])\n",
        "\n",
        "tokens = Tfidf_vect.get_feature_names_out()\n",
        "tfidf = create_dataframe(vector_matrix.toarray(),tokens)"
      ]
    },
    {
      "cell_type": "code",
      "execution_count": 42,
      "metadata": {
        "colab": {
          "base_uri": "https://localhost:8080/"
        },
        "id": "tf44MffKvwWJ",
        "outputId": "dd86c07c-f906-486b-cf9b-40e424f1ace0"
      },
      "outputs": [
        {
          "data": {
            "text/plain": [
              "numpy.ndarray"
            ]
          },
          "execution_count": 42,
          "metadata": {},
          "output_type": "execute_result"
        }
      ],
      "source": [
        "type(tokens)"
      ]
    },
    {
      "cell_type": "code",
      "execution_count": 43,
      "metadata": {
        "colab": {
          "base_uri": "https://localhost:8080/",
          "height": 487
        },
        "id": "2pfAkiw4tgo3",
        "outputId": "e08b6187-f3a7-42e8-879b-49f29493f599"
      },
      "outputs": [
        {
          "data": {
            "text/html": [
              "<div>\n",
              "<style scoped>\n",
              "    .dataframe tbody tr th:only-of-type {\n",
              "        vertical-align: middle;\n",
              "    }\n",
              "\n",
              "    .dataframe tbody tr th {\n",
              "        vertical-align: top;\n",
              "    }\n",
              "\n",
              "    .dataframe thead th {\n",
              "        text-align: right;\n",
              "    }\n",
              "</style>\n",
              "<table border=\"1\" class=\"dataframe\">\n",
              "  <thead>\n",
              "    <tr style=\"text-align: right;\">\n",
              "      <th></th>\n",
              "      <th>absensi</th>\n",
              "      <th>acara</th>\n",
              "      <th>ada</th>\n",
              "      <th>adik</th>\n",
              "      <th>administratif</th>\n",
              "      <th>aduh</th>\n",
              "      <th>advokasi</th>\n",
              "      <th>ain</th>\n",
              "      <th>ajak</th>\n",
              "      <th>ajar</th>\n",
              "      <th>...</th>\n",
              "      <th>webnya</th>\n",
              "      <th>websitenya</th>\n",
              "      <th>wih</th>\n",
              "      <th>will</th>\n",
              "      <th>wisuda</th>\n",
              "      <th>worth</th>\n",
              "      <th>would</th>\n",
              "      <th>your</th>\n",
              "      <th>youtube</th>\n",
              "      <th>yudisium</th>\n",
              "    </tr>\n",
              "  </thead>\n",
              "  <tbody>\n",
              "    <tr>\n",
              "      <th>doc_1</th>\n",
              "      <td>0.0</td>\n",
              "      <td>0.0</td>\n",
              "      <td>0.0</td>\n",
              "      <td>0.000000</td>\n",
              "      <td>0.0</td>\n",
              "      <td>0.0</td>\n",
              "      <td>0.0</td>\n",
              "      <td>0.0</td>\n",
              "      <td>0.0</td>\n",
              "      <td>0.218296</td>\n",
              "      <td>...</td>\n",
              "      <td>0.0</td>\n",
              "      <td>0.0</td>\n",
              "      <td>0.0</td>\n",
              "      <td>0.0</td>\n",
              "      <td>0.0</td>\n",
              "      <td>0.000000</td>\n",
              "      <td>0.0</td>\n",
              "      <td>0.0</td>\n",
              "      <td>0.000000</td>\n",
              "      <td>0.0</td>\n",
              "    </tr>\n",
              "    <tr>\n",
              "      <th>doc_2</th>\n",
              "      <td>0.0</td>\n",
              "      <td>0.0</td>\n",
              "      <td>0.0</td>\n",
              "      <td>0.000000</td>\n",
              "      <td>0.0</td>\n",
              "      <td>0.0</td>\n",
              "      <td>0.0</td>\n",
              "      <td>0.0</td>\n",
              "      <td>0.0</td>\n",
              "      <td>0.103383</td>\n",
              "      <td>...</td>\n",
              "      <td>0.0</td>\n",
              "      <td>0.0</td>\n",
              "      <td>0.0</td>\n",
              "      <td>0.0</td>\n",
              "      <td>0.0</td>\n",
              "      <td>0.239086</td>\n",
              "      <td>0.0</td>\n",
              "      <td>0.0</td>\n",
              "      <td>0.000000</td>\n",
              "      <td>0.0</td>\n",
              "    </tr>\n",
              "    <tr>\n",
              "      <th>doc_3</th>\n",
              "      <td>0.0</td>\n",
              "      <td>0.0</td>\n",
              "      <td>0.0</td>\n",
              "      <td>0.000000</td>\n",
              "      <td>0.0</td>\n",
              "      <td>0.0</td>\n",
              "      <td>0.0</td>\n",
              "      <td>0.0</td>\n",
              "      <td>0.0</td>\n",
              "      <td>0.110682</td>\n",
              "      <td>...</td>\n",
              "      <td>0.0</td>\n",
              "      <td>0.0</td>\n",
              "      <td>0.0</td>\n",
              "      <td>0.0</td>\n",
              "      <td>0.0</td>\n",
              "      <td>0.000000</td>\n",
              "      <td>0.0</td>\n",
              "      <td>0.0</td>\n",
              "      <td>0.000000</td>\n",
              "      <td>0.0</td>\n",
              "    </tr>\n",
              "    <tr>\n",
              "      <th>doc_4</th>\n",
              "      <td>0.0</td>\n",
              "      <td>0.0</td>\n",
              "      <td>0.0</td>\n",
              "      <td>0.000000</td>\n",
              "      <td>0.0</td>\n",
              "      <td>0.0</td>\n",
              "      <td>0.0</td>\n",
              "      <td>0.0</td>\n",
              "      <td>0.0</td>\n",
              "      <td>0.000000</td>\n",
              "      <td>...</td>\n",
              "      <td>0.0</td>\n",
              "      <td>0.0</td>\n",
              "      <td>0.0</td>\n",
              "      <td>0.0</td>\n",
              "      <td>0.0</td>\n",
              "      <td>0.000000</td>\n",
              "      <td>0.0</td>\n",
              "      <td>0.0</td>\n",
              "      <td>0.000000</td>\n",
              "      <td>0.0</td>\n",
              "    </tr>\n",
              "    <tr>\n",
              "      <th>doc_5</th>\n",
              "      <td>0.0</td>\n",
              "      <td>0.0</td>\n",
              "      <td>0.0</td>\n",
              "      <td>0.000000</td>\n",
              "      <td>0.0</td>\n",
              "      <td>0.0</td>\n",
              "      <td>0.0</td>\n",
              "      <td>0.0</td>\n",
              "      <td>0.0</td>\n",
              "      <td>0.000000</td>\n",
              "      <td>...</td>\n",
              "      <td>0.0</td>\n",
              "      <td>0.0</td>\n",
              "      <td>0.0</td>\n",
              "      <td>0.0</td>\n",
              "      <td>0.0</td>\n",
              "      <td>0.000000</td>\n",
              "      <td>0.0</td>\n",
              "      <td>0.0</td>\n",
              "      <td>0.000000</td>\n",
              "      <td>0.0</td>\n",
              "    </tr>\n",
              "    <tr>\n",
              "      <th>...</th>\n",
              "      <td>...</td>\n",
              "      <td>...</td>\n",
              "      <td>...</td>\n",
              "      <td>...</td>\n",
              "      <td>...</td>\n",
              "      <td>...</td>\n",
              "      <td>...</td>\n",
              "      <td>...</td>\n",
              "      <td>...</td>\n",
              "      <td>...</td>\n",
              "      <td>...</td>\n",
              "      <td>...</td>\n",
              "      <td>...</td>\n",
              "      <td>...</td>\n",
              "      <td>...</td>\n",
              "      <td>...</td>\n",
              "      <td>...</td>\n",
              "      <td>...</td>\n",
              "      <td>...</td>\n",
              "      <td>...</td>\n",
              "      <td>...</td>\n",
              "    </tr>\n",
              "    <tr>\n",
              "      <th>doc_206</th>\n",
              "      <td>0.0</td>\n",
              "      <td>0.0</td>\n",
              "      <td>0.0</td>\n",
              "      <td>0.000000</td>\n",
              "      <td>0.0</td>\n",
              "      <td>0.0</td>\n",
              "      <td>0.0</td>\n",
              "      <td>0.0</td>\n",
              "      <td>0.0</td>\n",
              "      <td>0.000000</td>\n",
              "      <td>...</td>\n",
              "      <td>0.0</td>\n",
              "      <td>0.0</td>\n",
              "      <td>0.0</td>\n",
              "      <td>0.0</td>\n",
              "      <td>0.0</td>\n",
              "      <td>0.000000</td>\n",
              "      <td>0.0</td>\n",
              "      <td>0.0</td>\n",
              "      <td>0.000000</td>\n",
              "      <td>0.0</td>\n",
              "    </tr>\n",
              "    <tr>\n",
              "      <th>doc_207</th>\n",
              "      <td>0.0</td>\n",
              "      <td>0.0</td>\n",
              "      <td>0.0</td>\n",
              "      <td>0.000000</td>\n",
              "      <td>0.0</td>\n",
              "      <td>0.0</td>\n",
              "      <td>0.0</td>\n",
              "      <td>0.0</td>\n",
              "      <td>0.0</td>\n",
              "      <td>0.000000</td>\n",
              "      <td>...</td>\n",
              "      <td>0.0</td>\n",
              "      <td>0.0</td>\n",
              "      <td>0.0</td>\n",
              "      <td>0.0</td>\n",
              "      <td>0.0</td>\n",
              "      <td>0.000000</td>\n",
              "      <td>0.0</td>\n",
              "      <td>0.0</td>\n",
              "      <td>0.445682</td>\n",
              "      <td>0.0</td>\n",
              "    </tr>\n",
              "    <tr>\n",
              "      <th>doc_208</th>\n",
              "      <td>0.0</td>\n",
              "      <td>0.0</td>\n",
              "      <td>0.0</td>\n",
              "      <td>0.000000</td>\n",
              "      <td>0.0</td>\n",
              "      <td>0.0</td>\n",
              "      <td>0.0</td>\n",
              "      <td>0.0</td>\n",
              "      <td>0.0</td>\n",
              "      <td>0.000000</td>\n",
              "      <td>...</td>\n",
              "      <td>0.0</td>\n",
              "      <td>0.0</td>\n",
              "      <td>0.0</td>\n",
              "      <td>0.0</td>\n",
              "      <td>0.0</td>\n",
              "      <td>0.000000</td>\n",
              "      <td>0.0</td>\n",
              "      <td>0.0</td>\n",
              "      <td>0.000000</td>\n",
              "      <td>0.0</td>\n",
              "    </tr>\n",
              "    <tr>\n",
              "      <th>doc_209</th>\n",
              "      <td>0.0</td>\n",
              "      <td>0.0</td>\n",
              "      <td>0.0</td>\n",
              "      <td>0.274807</td>\n",
              "      <td>0.0</td>\n",
              "      <td>0.0</td>\n",
              "      <td>0.0</td>\n",
              "      <td>0.0</td>\n",
              "      <td>0.0</td>\n",
              "      <td>0.000000</td>\n",
              "      <td>...</td>\n",
              "      <td>0.0</td>\n",
              "      <td>0.0</td>\n",
              "      <td>0.0</td>\n",
              "      <td>0.0</td>\n",
              "      <td>0.0</td>\n",
              "      <td>0.000000</td>\n",
              "      <td>0.0</td>\n",
              "      <td>0.0</td>\n",
              "      <td>0.000000</td>\n",
              "      <td>0.0</td>\n",
              "    </tr>\n",
              "    <tr>\n",
              "      <th>doc_210</th>\n",
              "      <td>0.0</td>\n",
              "      <td>0.0</td>\n",
              "      <td>0.0</td>\n",
              "      <td>0.000000</td>\n",
              "      <td>0.0</td>\n",
              "      <td>0.0</td>\n",
              "      <td>0.0</td>\n",
              "      <td>0.0</td>\n",
              "      <td>0.0</td>\n",
              "      <td>0.000000</td>\n",
              "      <td>...</td>\n",
              "      <td>0.0</td>\n",
              "      <td>0.0</td>\n",
              "      <td>0.0</td>\n",
              "      <td>0.0</td>\n",
              "      <td>0.0</td>\n",
              "      <td>0.000000</td>\n",
              "      <td>0.0</td>\n",
              "      <td>0.0</td>\n",
              "      <td>0.000000</td>\n",
              "      <td>0.0</td>\n",
              "    </tr>\n",
              "  </tbody>\n",
              "</table>\n",
              "<p>210 rows × 861 columns</p>\n",
              "</div>"
            ],
            "text/plain": [
              "         absensi  acara  ada      adik  administratif  aduh  advokasi  ain  \\\n",
              "doc_1        0.0    0.0  0.0  0.000000            0.0   0.0       0.0  0.0   \n",
              "doc_2        0.0    0.0  0.0  0.000000            0.0   0.0       0.0  0.0   \n",
              "doc_3        0.0    0.0  0.0  0.000000            0.0   0.0       0.0  0.0   \n",
              "doc_4        0.0    0.0  0.0  0.000000            0.0   0.0       0.0  0.0   \n",
              "doc_5        0.0    0.0  0.0  0.000000            0.0   0.0       0.0  0.0   \n",
              "...          ...    ...  ...       ...            ...   ...       ...  ...   \n",
              "doc_206      0.0    0.0  0.0  0.000000            0.0   0.0       0.0  0.0   \n",
              "doc_207      0.0    0.0  0.0  0.000000            0.0   0.0       0.0  0.0   \n",
              "doc_208      0.0    0.0  0.0  0.000000            0.0   0.0       0.0  0.0   \n",
              "doc_209      0.0    0.0  0.0  0.274807            0.0   0.0       0.0  0.0   \n",
              "doc_210      0.0    0.0  0.0  0.000000            0.0   0.0       0.0  0.0   \n",
              "\n",
              "         ajak      ajar  ...  webnya  websitenya  wih  will  wisuda     worth  \\\n",
              "doc_1     0.0  0.218296  ...     0.0         0.0  0.0   0.0     0.0  0.000000   \n",
              "doc_2     0.0  0.103383  ...     0.0         0.0  0.0   0.0     0.0  0.239086   \n",
              "doc_3     0.0  0.110682  ...     0.0         0.0  0.0   0.0     0.0  0.000000   \n",
              "doc_4     0.0  0.000000  ...     0.0         0.0  0.0   0.0     0.0  0.000000   \n",
              "doc_5     0.0  0.000000  ...     0.0         0.0  0.0   0.0     0.0  0.000000   \n",
              "...       ...       ...  ...     ...         ...  ...   ...     ...       ...   \n",
              "doc_206   0.0  0.000000  ...     0.0         0.0  0.0   0.0     0.0  0.000000   \n",
              "doc_207   0.0  0.000000  ...     0.0         0.0  0.0   0.0     0.0  0.000000   \n",
              "doc_208   0.0  0.000000  ...     0.0         0.0  0.0   0.0     0.0  0.000000   \n",
              "doc_209   0.0  0.000000  ...     0.0         0.0  0.0   0.0     0.0  0.000000   \n",
              "doc_210   0.0  0.000000  ...     0.0         0.0  0.0   0.0     0.0  0.000000   \n",
              "\n",
              "         would  your   youtube  yudisium  \n",
              "doc_1      0.0   0.0  0.000000       0.0  \n",
              "doc_2      0.0   0.0  0.000000       0.0  \n",
              "doc_3      0.0   0.0  0.000000       0.0  \n",
              "doc_4      0.0   0.0  0.000000       0.0  \n",
              "doc_5      0.0   0.0  0.000000       0.0  \n",
              "...        ...   ...       ...       ...  \n",
              "doc_206    0.0   0.0  0.000000       0.0  \n",
              "doc_207    0.0   0.0  0.445682       0.0  \n",
              "doc_208    0.0   0.0  0.000000       0.0  \n",
              "doc_209    0.0   0.0  0.000000       0.0  \n",
              "doc_210    0.0   0.0  0.000000       0.0  \n",
              "\n",
              "[210 rows x 861 columns]"
            ]
          },
          "execution_count": 43,
          "metadata": {},
          "output_type": "execute_result"
        }
      ],
      "source": [
        "tf = pd.DataFrame(tfidf)\n",
        "tf"
      ]
    },
    {
      "cell_type": "code",
      "execution_count": 44,
      "metadata": {},
      "outputs": [],
      "source": [
        "tf.to_csv('tf-idf.csv',sep=';')"
      ]
    },
    {
      "cell_type": "markdown",
      "metadata": {
        "id": "1vdrtpt85qzF"
      },
      "source": [
        "#cor"
      ]
    },
    {
      "cell_type": "code",
      "execution_count": 45,
      "metadata": {
        "id": "LIWhrBzx7igE"
      },
      "outputs": [],
      "source": [
        "import pandas as pd\n",
        "\n",
        "import numpy as np\n",
        "\n",
        "from sklearn.model_selection import train_test_split\n",
        "\n",
        "from sklearn import metrics\n",
        "\n",
        "from sklearn.preprocessing import LabelEncoder"
      ]
    },
    {
      "cell_type": "code",
      "execution_count": 46,
      "metadata": {
        "colab": {
          "base_uri": "https://localhost:8080/"
        },
        "id": "EALrdvWy8uB7",
        "outputId": "419f47e6-5b26-4246-a638-5dd89cd4baad"
      },
      "outputs": [
        {
          "data": {
            "text/plain": [
              "0    1\n",
              "1    1\n",
              "2    1\n",
              "3    0\n",
              "4    1\n",
              "Name: sentimen, dtype: int64"
            ]
          },
          "execution_count": 46,
          "metadata": {},
          "output_type": "execute_result"
        }
      ],
      "source": [
        "# mapping, negative = 0, positive = 1\n",
        "y = df['sentimen'].map({'negative':0, 'positive':1})\n",
        "y.head()"
      ]
    },
    {
      "cell_type": "code",
      "execution_count": 47,
      "metadata": {
        "id": "xA4ZoEpe8UR1"
      },
      "outputs": [],
      "source": [
        "x = tfidf"
      ]
    },
    {
      "cell_type": "code",
      "execution_count": 48,
      "metadata": {
        "id": "EAEBmwCq8RS1"
      },
      "outputs": [],
      "source": [
        "x_train, x_test, y_train, y_test = train_test_split(x, y, test_size = 0.2)"
      ]
    },
    {
      "cell_type": "code",
      "execution_count": 49,
      "metadata": {
        "colab": {
          "base_uri": "https://localhost:8080/"
        },
        "id": "Whj0nsgv8alZ",
        "outputId": "b60ea253-07ef-4379-fe32-19b99759caff"
      },
      "outputs": [
        {
          "name": "stdout",
          "output_type": "stream",
          "text": [
            "Akurasi: 0.7142857142857143\n"
          ]
        }
      ],
      "source": [
        "from sklearn.svm import SVC\n",
        "svc = SVC() # The default kernel adalah gaussian kernel\n",
        "\n",
        "svc.fit(x_train, y_train)\n",
        "\n",
        "prediction = svc.predict(x_test)\n",
        "\n",
        "print(\"Akurasi:\",metrics.accuracy_score(y_test, prediction))"
      ]
    },
    {
      "cell_type": "code",
      "execution_count": 50,
      "metadata": {
        "colab": {
          "base_uri": "https://localhost:8080/",
          "height": 487
        },
        "id": "EeHYEBgT5sV5",
        "outputId": "47a33322-d93c-406a-d294-c89ff82ce446"
      },
      "outputs": [
        {
          "data": {
            "text/html": [
              "<div>\n",
              "<style scoped>\n",
              "    .dataframe tbody tr th:only-of-type {\n",
              "        vertical-align: middle;\n",
              "    }\n",
              "\n",
              "    .dataframe tbody tr th {\n",
              "        vertical-align: top;\n",
              "    }\n",
              "\n",
              "    .dataframe thead th {\n",
              "        text-align: right;\n",
              "    }\n",
              "</style>\n",
              "<table border=\"1\" class=\"dataframe\">\n",
              "  <thead>\n",
              "    <tr style=\"text-align: right;\">\n",
              "      <th></th>\n",
              "      <th>absensi</th>\n",
              "      <th>acara</th>\n",
              "      <th>ada</th>\n",
              "      <th>adik</th>\n",
              "      <th>administratif</th>\n",
              "      <th>aduh</th>\n",
              "      <th>advokasi</th>\n",
              "      <th>ain</th>\n",
              "      <th>ajak</th>\n",
              "      <th>ajar</th>\n",
              "      <th>...</th>\n",
              "      <th>webnya</th>\n",
              "      <th>websitenya</th>\n",
              "      <th>wih</th>\n",
              "      <th>will</th>\n",
              "      <th>wisuda</th>\n",
              "      <th>worth</th>\n",
              "      <th>would</th>\n",
              "      <th>your</th>\n",
              "      <th>youtube</th>\n",
              "      <th>yudisium</th>\n",
              "    </tr>\n",
              "  </thead>\n",
              "  <tbody>\n",
              "    <tr>\n",
              "      <th>absensi</th>\n",
              "      <td>1.000000</td>\n",
              "      <td>0.004785</td>\n",
              "      <td>0.004785</td>\n",
              "      <td>0.006729</td>\n",
              "      <td>0.004785</td>\n",
              "      <td>0.004785</td>\n",
              "      <td>0.004785</td>\n",
              "      <td>0.004785</td>\n",
              "      <td>0.004785</td>\n",
              "      <td>0.042906</td>\n",
              "      <td>...</td>\n",
              "      <td>0.004785</td>\n",
              "      <td>0.004785</td>\n",
              "      <td>0.004785</td>\n",
              "      <td>0.004785</td>\n",
              "      <td>0.004785</td>\n",
              "      <td>0.008310</td>\n",
              "      <td>0.004785</td>\n",
              "      <td>0.004785</td>\n",
              "      <td>0.004785</td>\n",
              "      <td>0.004785</td>\n",
              "    </tr>\n",
              "    <tr>\n",
              "      <th>acara</th>\n",
              "      <td>0.004785</td>\n",
              "      <td>1.000000</td>\n",
              "      <td>0.004785</td>\n",
              "      <td>0.006729</td>\n",
              "      <td>0.004785</td>\n",
              "      <td>0.004785</td>\n",
              "      <td>0.004785</td>\n",
              "      <td>0.004785</td>\n",
              "      <td>0.004785</td>\n",
              "      <td>0.041976</td>\n",
              "      <td>...</td>\n",
              "      <td>0.004785</td>\n",
              "      <td>0.004785</td>\n",
              "      <td>0.004785</td>\n",
              "      <td>0.004785</td>\n",
              "      <td>0.004785</td>\n",
              "      <td>0.008310</td>\n",
              "      <td>0.004785</td>\n",
              "      <td>0.004785</td>\n",
              "      <td>0.004785</td>\n",
              "      <td>0.004785</td>\n",
              "    </tr>\n",
              "    <tr>\n",
              "      <th>ada</th>\n",
              "      <td>0.004785</td>\n",
              "      <td>0.004785</td>\n",
              "      <td>1.000000</td>\n",
              "      <td>0.006729</td>\n",
              "      <td>0.004785</td>\n",
              "      <td>0.004785</td>\n",
              "      <td>0.004785</td>\n",
              "      <td>0.004785</td>\n",
              "      <td>0.004785</td>\n",
              "      <td>0.041976</td>\n",
              "      <td>...</td>\n",
              "      <td>0.004785</td>\n",
              "      <td>0.004785</td>\n",
              "      <td>0.004785</td>\n",
              "      <td>0.004785</td>\n",
              "      <td>0.004785</td>\n",
              "      <td>0.008310</td>\n",
              "      <td>0.004785</td>\n",
              "      <td>0.004785</td>\n",
              "      <td>0.004785</td>\n",
              "      <td>0.004785</td>\n",
              "    </tr>\n",
              "    <tr>\n",
              "      <th>adik</th>\n",
              "      <td>0.006729</td>\n",
              "      <td>0.006729</td>\n",
              "      <td>0.006729</td>\n",
              "      <td>1.000000</td>\n",
              "      <td>0.006729</td>\n",
              "      <td>0.006729</td>\n",
              "      <td>0.006729</td>\n",
              "      <td>0.006729</td>\n",
              "      <td>0.006729</td>\n",
              "      <td>0.059037</td>\n",
              "      <td>...</td>\n",
              "      <td>0.006729</td>\n",
              "      <td>0.006729</td>\n",
              "      <td>0.006729</td>\n",
              "      <td>0.006729</td>\n",
              "      <td>0.006729</td>\n",
              "      <td>0.011687</td>\n",
              "      <td>0.611090</td>\n",
              "      <td>0.006729</td>\n",
              "      <td>0.006729</td>\n",
              "      <td>0.006729</td>\n",
              "    </tr>\n",
              "    <tr>\n",
              "      <th>administratif</th>\n",
              "      <td>0.004785</td>\n",
              "      <td>0.004785</td>\n",
              "      <td>0.004785</td>\n",
              "      <td>0.006729</td>\n",
              "      <td>1.000000</td>\n",
              "      <td>0.004785</td>\n",
              "      <td>0.004785</td>\n",
              "      <td>0.004785</td>\n",
              "      <td>0.004785</td>\n",
              "      <td>0.041976</td>\n",
              "      <td>...</td>\n",
              "      <td>0.004785</td>\n",
              "      <td>1.000000</td>\n",
              "      <td>0.004785</td>\n",
              "      <td>0.004785</td>\n",
              "      <td>0.004785</td>\n",
              "      <td>0.008310</td>\n",
              "      <td>0.004785</td>\n",
              "      <td>0.004785</td>\n",
              "      <td>0.004785</td>\n",
              "      <td>0.004785</td>\n",
              "    </tr>\n",
              "    <tr>\n",
              "      <th>...</th>\n",
              "      <td>...</td>\n",
              "      <td>...</td>\n",
              "      <td>...</td>\n",
              "      <td>...</td>\n",
              "      <td>...</td>\n",
              "      <td>...</td>\n",
              "      <td>...</td>\n",
              "      <td>...</td>\n",
              "      <td>...</td>\n",
              "      <td>...</td>\n",
              "      <td>...</td>\n",
              "      <td>...</td>\n",
              "      <td>...</td>\n",
              "      <td>...</td>\n",
              "      <td>...</td>\n",
              "      <td>...</td>\n",
              "      <td>...</td>\n",
              "      <td>...</td>\n",
              "      <td>...</td>\n",
              "      <td>...</td>\n",
              "      <td>...</td>\n",
              "    </tr>\n",
              "    <tr>\n",
              "      <th>worth</th>\n",
              "      <td>0.008310</td>\n",
              "      <td>0.008310</td>\n",
              "      <td>0.008310</td>\n",
              "      <td>0.011687</td>\n",
              "      <td>0.008310</td>\n",
              "      <td>0.008310</td>\n",
              "      <td>0.008310</td>\n",
              "      <td>0.008310</td>\n",
              "      <td>0.008310</td>\n",
              "      <td>0.035016</td>\n",
              "      <td>...</td>\n",
              "      <td>0.008310</td>\n",
              "      <td>0.008310</td>\n",
              "      <td>0.008310</td>\n",
              "      <td>0.008310</td>\n",
              "      <td>0.008310</td>\n",
              "      <td>1.000000</td>\n",
              "      <td>0.008310</td>\n",
              "      <td>0.008310</td>\n",
              "      <td>0.008310</td>\n",
              "      <td>0.008310</td>\n",
              "    </tr>\n",
              "    <tr>\n",
              "      <th>would</th>\n",
              "      <td>0.004785</td>\n",
              "      <td>0.004785</td>\n",
              "      <td>0.004785</td>\n",
              "      <td>0.611090</td>\n",
              "      <td>0.004785</td>\n",
              "      <td>0.004785</td>\n",
              "      <td>0.004785</td>\n",
              "      <td>0.004785</td>\n",
              "      <td>0.004785</td>\n",
              "      <td>0.041976</td>\n",
              "      <td>...</td>\n",
              "      <td>0.004785</td>\n",
              "      <td>0.004785</td>\n",
              "      <td>0.004785</td>\n",
              "      <td>0.004785</td>\n",
              "      <td>0.004785</td>\n",
              "      <td>0.008310</td>\n",
              "      <td>1.000000</td>\n",
              "      <td>0.004785</td>\n",
              "      <td>0.004785</td>\n",
              "      <td>0.004785</td>\n",
              "    </tr>\n",
              "    <tr>\n",
              "      <th>your</th>\n",
              "      <td>0.004785</td>\n",
              "      <td>0.004785</td>\n",
              "      <td>0.004785</td>\n",
              "      <td>0.006729</td>\n",
              "      <td>0.004785</td>\n",
              "      <td>0.004785</td>\n",
              "      <td>0.004785</td>\n",
              "      <td>0.004785</td>\n",
              "      <td>0.004785</td>\n",
              "      <td>0.068280</td>\n",
              "      <td>...</td>\n",
              "      <td>0.004785</td>\n",
              "      <td>0.004785</td>\n",
              "      <td>0.004785</td>\n",
              "      <td>0.004785</td>\n",
              "      <td>0.004785</td>\n",
              "      <td>0.008310</td>\n",
              "      <td>0.004785</td>\n",
              "      <td>1.000000</td>\n",
              "      <td>0.004785</td>\n",
              "      <td>0.004785</td>\n",
              "    </tr>\n",
              "    <tr>\n",
              "      <th>youtube</th>\n",
              "      <td>0.004785</td>\n",
              "      <td>0.004785</td>\n",
              "      <td>0.004785</td>\n",
              "      <td>0.006729</td>\n",
              "      <td>0.004785</td>\n",
              "      <td>0.004785</td>\n",
              "      <td>0.004785</td>\n",
              "      <td>0.004785</td>\n",
              "      <td>0.004785</td>\n",
              "      <td>0.041976</td>\n",
              "      <td>...</td>\n",
              "      <td>0.004785</td>\n",
              "      <td>0.004785</td>\n",
              "      <td>0.004785</td>\n",
              "      <td>0.004785</td>\n",
              "      <td>0.004785</td>\n",
              "      <td>0.008310</td>\n",
              "      <td>0.004785</td>\n",
              "      <td>0.004785</td>\n",
              "      <td>1.000000</td>\n",
              "      <td>0.004785</td>\n",
              "    </tr>\n",
              "    <tr>\n",
              "      <th>yudisium</th>\n",
              "      <td>0.004785</td>\n",
              "      <td>0.004785</td>\n",
              "      <td>0.004785</td>\n",
              "      <td>0.006729</td>\n",
              "      <td>0.004785</td>\n",
              "      <td>0.004785</td>\n",
              "      <td>0.004785</td>\n",
              "      <td>0.004785</td>\n",
              "      <td>0.004785</td>\n",
              "      <td>0.036448</td>\n",
              "      <td>...</td>\n",
              "      <td>0.004785</td>\n",
              "      <td>0.004785</td>\n",
              "      <td>0.004785</td>\n",
              "      <td>0.004785</td>\n",
              "      <td>1.000000</td>\n",
              "      <td>0.008310</td>\n",
              "      <td>0.004785</td>\n",
              "      <td>0.004785</td>\n",
              "      <td>0.004785</td>\n",
              "      <td>1.000000</td>\n",
              "    </tr>\n",
              "  </tbody>\n",
              "</table>\n",
              "<p>861 rows × 861 columns</p>\n",
              "</div>"
            ],
            "text/plain": [
              "                absensi     acara       ada      adik  administratif  \\\n",
              "absensi        1.000000  0.004785  0.004785  0.006729       0.004785   \n",
              "acara          0.004785  1.000000  0.004785  0.006729       0.004785   \n",
              "ada            0.004785  0.004785  1.000000  0.006729       0.004785   \n",
              "adik           0.006729  0.006729  0.006729  1.000000       0.006729   \n",
              "administratif  0.004785  0.004785  0.004785  0.006729       1.000000   \n",
              "...                 ...       ...       ...       ...            ...   \n",
              "worth          0.008310  0.008310  0.008310  0.011687       0.008310   \n",
              "would          0.004785  0.004785  0.004785  0.611090       0.004785   \n",
              "your           0.004785  0.004785  0.004785  0.006729       0.004785   \n",
              "youtube        0.004785  0.004785  0.004785  0.006729       0.004785   \n",
              "yudisium       0.004785  0.004785  0.004785  0.006729       0.004785   \n",
              "\n",
              "                   aduh  advokasi       ain      ajak      ajar  ...  \\\n",
              "absensi        0.004785  0.004785  0.004785  0.004785  0.042906  ...   \n",
              "acara          0.004785  0.004785  0.004785  0.004785  0.041976  ...   \n",
              "ada            0.004785  0.004785  0.004785  0.004785  0.041976  ...   \n",
              "adik           0.006729  0.006729  0.006729  0.006729  0.059037  ...   \n",
              "administratif  0.004785  0.004785  0.004785  0.004785  0.041976  ...   \n",
              "...                 ...       ...       ...       ...       ...  ...   \n",
              "worth          0.008310  0.008310  0.008310  0.008310  0.035016  ...   \n",
              "would          0.004785  0.004785  0.004785  0.004785  0.041976  ...   \n",
              "your           0.004785  0.004785  0.004785  0.004785  0.068280  ...   \n",
              "youtube        0.004785  0.004785  0.004785  0.004785  0.041976  ...   \n",
              "yudisium       0.004785  0.004785  0.004785  0.004785  0.036448  ...   \n",
              "\n",
              "                 webnya  websitenya       wih      will    wisuda     worth  \\\n",
              "absensi        0.004785    0.004785  0.004785  0.004785  0.004785  0.008310   \n",
              "acara          0.004785    0.004785  0.004785  0.004785  0.004785  0.008310   \n",
              "ada            0.004785    0.004785  0.004785  0.004785  0.004785  0.008310   \n",
              "adik           0.006729    0.006729  0.006729  0.006729  0.006729  0.011687   \n",
              "administratif  0.004785    1.000000  0.004785  0.004785  0.004785  0.008310   \n",
              "...                 ...         ...       ...       ...       ...       ...   \n",
              "worth          0.008310    0.008310  0.008310  0.008310  0.008310  1.000000   \n",
              "would          0.004785    0.004785  0.004785  0.004785  0.004785  0.008310   \n",
              "your           0.004785    0.004785  0.004785  0.004785  0.004785  0.008310   \n",
              "youtube        0.004785    0.004785  0.004785  0.004785  0.004785  0.008310   \n",
              "yudisium       0.004785    0.004785  0.004785  0.004785  1.000000  0.008310   \n",
              "\n",
              "                  would      your   youtube  yudisium  \n",
              "absensi        0.004785  0.004785  0.004785  0.004785  \n",
              "acara          0.004785  0.004785  0.004785  0.004785  \n",
              "ada            0.004785  0.004785  0.004785  0.004785  \n",
              "adik           0.611090  0.006729  0.006729  0.006729  \n",
              "administratif  0.004785  0.004785  0.004785  0.004785  \n",
              "...                 ...       ...       ...       ...  \n",
              "worth          0.008310  0.008310  0.008310  0.008310  \n",
              "would          1.000000  0.004785  0.004785  0.004785  \n",
              "your           0.004785  1.000000  0.004785  0.004785  \n",
              "youtube        0.004785  0.004785  1.000000  0.004785  \n",
              "yudisium       0.004785  0.004785  0.004785  1.000000  \n",
              "\n",
              "[861 rows x 861 columns]"
            ]
          },
          "execution_count": 50,
          "metadata": {},
          "output_type": "execute_result"
        }
      ],
      "source": [
        "corr_matrix = tfidf.corr().abs()\n",
        "corr_matrix"
      ]
    },
    {
      "cell_type": "code",
      "execution_count": 51,
      "metadata": {
        "id": "NQXLZtoJSxAD"
      },
      "outputs": [],
      "source": [
        "import seaborn as sns"
      ]
    },
    {
      "cell_type": "code",
      "execution_count": 52,
      "metadata": {},
      "outputs": [
        {
          "data": {
            "text/plain": [
              "<Axes: >"
            ]
          },
          "execution_count": 52,
          "metadata": {},
          "output_type": "execute_result"
        },
        {
          "data": {
            "image/png": "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",
            "text/plain": [
              "<Figure size 640x480 with 2 Axes>"
            ]
          },
          "metadata": {},
          "output_type": "display_data"
        }
      ],
      "source": [
        "sns.heatmap(corr_matrix)"
      ]
    },
    {
      "cell_type": "code",
      "execution_count": 53,
      "metadata": {
        "colab": {
          "base_uri": "https://localhost:8080/",
          "height": 297
        },
        "id": "VN_BP3YQTDL0",
        "outputId": "8069f2ac-72fa-4a5c-a5e0-1a9b1afaf706"
      },
      "outputs": [
        {
          "data": {
            "text/plain": [
              "<Axes: xlabel='konversi', ylabel='uang'>"
            ]
          },
          "execution_count": 53,
          "metadata": {},
          "output_type": "execute_result"
        },
        {
          "data": {
            "image/png": "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",
            "text/plain": [
              "<Figure size 640x480 with 1 Axes>"
            ]
          },
          "metadata": {},
          "output_type": "display_data"
        }
      ],
      "source": [
        "sns.scatterplot(x='konversi', y='uang', data=corr_matrix)"
      ]
    },
    {
      "cell_type": "code",
      "execution_count": 54,
      "metadata": {
        "colab": {
          "base_uri": "https://localhost:8080/"
        },
        "id": "81mIHLY459if",
        "outputId": "8b28a680-85c8-49fc-8a43-fb6ad4116a81"
      },
      "outputs": [],
      "source": [
        "upper = corr_matrix.where(np.triu(np.ones(corr_matrix.shape), k=1).astype(np.bool_))"
      ]
    },
    {
      "cell_type": "code",
      "execution_count": 55,
      "metadata": {
        "id": "YyoIrLOH6FEz"
      },
      "outputs": [],
      "source": [
        "#temukan feature dengan correlation diatas 0.9\n",
        "\n",
        "to_drop = [column for column in upper.columns if any(upper[column] > 0.9)]\n",
        "\n",
        "for ls in to_drop:\n",
        "  paramater=tfidf.drop([ls],axis=1)"
      ]
    },
    {
      "cell_type": "code",
      "execution_count": 56,
      "metadata": {
        "colab": {
          "base_uri": "https://localhost:8080/"
        },
        "id": "Ek-rh2MAD-xe",
        "outputId": "08013dd7-339b-4a44-da2b-d669d8065293"
      },
      "outputs": [
        {
          "data": {
            "text/plain": [
              "398"
            ]
          },
          "execution_count": 56,
          "metadata": {},
          "output_type": "execute_result"
        }
      ],
      "source": [
        "len(to_drop)"
      ]
    },
    {
      "cell_type": "code",
      "execution_count": 57,
      "metadata": {},
      "outputs": [],
      "source": [
        "do=pd.DataFrame(to_drop)"
      ]
    },
    {
      "cell_type": "code",
      "execution_count": 58,
      "metadata": {
        "id": "lIWIP5-njX03"
      },
      "outputs": [],
      "source": [
        "do.to_csv('peubah yang didrop.csv')"
      ]
    },
    {
      "cell_type": "code",
      "execution_count": 59,
      "metadata": {
        "colab": {
          "base_uri": "https://localhost:8080/"
        },
        "id": "RHiiNtko6-HR",
        "outputId": "60936cb5-1bdf-49df-f85b-84320a76d733"
      },
      "outputs": [
        {
          "name": "stdout",
          "output_type": "stream",
          "text": [
            "Akurasi: 0.7142857142857143\n"
          ]
        }
      ],
      "source": [
        "x_train, x_test, y_train, y_test = train_test_split(paramater.values, y.values, test_size = 0.2)\n",
        "\n",
        "\n",
        "\n",
        "svc = SVC() # The default kernel adalah gaussian kernel\n",
        "\n",
        "svc.fit(x_train, y_train)\n",
        "\n",
        "prediction = svc.predict(x_test)\n",
        "\n",
        "print(\"Akurasi:\",metrics.accuracy_score(y_test, prediction))\n"
      ]
    },
    {
      "cell_type": "code",
      "execution_count": 60,
      "metadata": {
        "id": "D5KpLKehuDFH"
      },
      "outputs": [],
      "source": [
        "x= TF_IDF_Vec_List"
      ]
    },
    {
      "cell_type": "code",
      "execution_count": 61,
      "metadata": {
        "id": "BAsbvfMEuBoD"
      },
      "outputs": [],
      "source": [
        "x_train, x_test, y_train, y_test = train_test_split(x, y, test_size = 0.2)"
      ]
    },
    {
      "cell_type": "code",
      "execution_count": 62,
      "metadata": {
        "id": "nuMWJU_Gr4aY"
      },
      "outputs": [],
      "source": [
        "from sklearn.linear_model import LogisticRegression\n",
        "from sklearn.feature_selection import SelectFromModel\n",
        "lr =  LogisticRegression()\n",
        "lr = lr.fit(x, y)\n",
        "sel_feature = SelectFromModel(lr, prefit=True)"
      ]
    },
    {
      "cell_type": "code",
      "execution_count": 63,
      "metadata": {
        "id": "s3beQzaLuS_7"
      },
      "outputs": [],
      "source": [
        "x= pd.DataFrame(x_train)"
      ]
    },
    {
      "cell_type": "code",
      "execution_count": 64,
      "metadata": {
        "colab": {
          "base_uri": "https://localhost:8080/",
          "height": 299
        },
        "id": "2IoGC0Gnsxlo",
        "outputId": "20924ba7-b270-46d8-cd6a-278565c16ecd"
      },
      "outputs": [
        {
          "data": {
            "text/html": [
              "<div>\n",
              "<style scoped>\n",
              "    .dataframe tbody tr th:only-of-type {\n",
              "        vertical-align: middle;\n",
              "    }\n",
              "\n",
              "    .dataframe tbody tr th {\n",
              "        vertical-align: top;\n",
              "    }\n",
              "\n",
              "    .dataframe thead th {\n",
              "        text-align: right;\n",
              "    }\n",
              "</style>\n",
              "<table border=\"1\" class=\"dataframe\">\n",
              "  <thead>\n",
              "    <tr style=\"text-align: right;\">\n",
              "      <th></th>\n",
              "      <th>1</th>\n",
              "      <th>3</th>\n",
              "      <th>4</th>\n",
              "      <th>5</th>\n",
              "      <th>6</th>\n",
              "      <th>7</th>\n",
              "      <th>8</th>\n",
              "      <th>9</th>\n",
              "      <th>10</th>\n",
              "      <th>13</th>\n",
              "      <th>...</th>\n",
              "      <th>841</th>\n",
              "      <th>845</th>\n",
              "      <th>846</th>\n",
              "      <th>847</th>\n",
              "      <th>848</th>\n",
              "      <th>856</th>\n",
              "      <th>857</th>\n",
              "      <th>858</th>\n",
              "      <th>859</th>\n",
              "      <th>860</th>\n",
              "    </tr>\n",
              "  </thead>\n",
              "  <tbody>\n",
              "    <tr>\n",
              "      <th>0</th>\n",
              "      <td>0.014974</td>\n",
              "      <td>0.000000</td>\n",
              "      <td>0.000000</td>\n",
              "      <td>0.000000</td>\n",
              "      <td>0.000000</td>\n",
              "      <td>0.09282</td>\n",
              "      <td>0.104201</td>\n",
              "      <td>0.0</td>\n",
              "      <td>0.000000</td>\n",
              "      <td>0.0</td>\n",
              "      <td>...</td>\n",
              "      <td>0.0</td>\n",
              "      <td>0.0</td>\n",
              "      <td>0.0</td>\n",
              "      <td>0.0</td>\n",
              "      <td>0.0</td>\n",
              "      <td>0.0</td>\n",
              "      <td>0.0</td>\n",
              "      <td>0.0</td>\n",
              "      <td>0.0</td>\n",
              "      <td>0.0</td>\n",
              "    </tr>\n",
              "    <tr>\n",
              "      <th>1</th>\n",
              "      <td>0.023709</td>\n",
              "      <td>0.000000</td>\n",
              "      <td>0.000000</td>\n",
              "      <td>0.000000</td>\n",
              "      <td>0.000000</td>\n",
              "      <td>0.00000</td>\n",
              "      <td>0.000000</td>\n",
              "      <td>0.0</td>\n",
              "      <td>0.000000</td>\n",
              "      <td>0.0</td>\n",
              "      <td>...</td>\n",
              "      <td>0.0</td>\n",
              "      <td>0.0</td>\n",
              "      <td>0.0</td>\n",
              "      <td>0.0</td>\n",
              "      <td>0.0</td>\n",
              "      <td>0.0</td>\n",
              "      <td>0.0</td>\n",
              "      <td>0.0</td>\n",
              "      <td>0.0</td>\n",
              "      <td>0.0</td>\n",
              "    </tr>\n",
              "    <tr>\n",
              "      <th>2</th>\n",
              "      <td>0.047419</td>\n",
              "      <td>0.000000</td>\n",
              "      <td>0.000000</td>\n",
              "      <td>0.000000</td>\n",
              "      <td>0.000000</td>\n",
              "      <td>0.00000</td>\n",
              "      <td>0.000000</td>\n",
              "      <td>0.0</td>\n",
              "      <td>0.000000</td>\n",
              "      <td>0.0</td>\n",
              "      <td>...</td>\n",
              "      <td>0.0</td>\n",
              "      <td>0.0</td>\n",
              "      <td>0.0</td>\n",
              "      <td>0.0</td>\n",
              "      <td>0.0</td>\n",
              "      <td>0.0</td>\n",
              "      <td>0.0</td>\n",
              "      <td>0.0</td>\n",
              "      <td>0.0</td>\n",
              "      <td>0.0</td>\n",
              "    </tr>\n",
              "    <tr>\n",
              "      <th>3</th>\n",
              "      <td>0.000000</td>\n",
              "      <td>0.203275</td>\n",
              "      <td>0.114241</td>\n",
              "      <td>0.000000</td>\n",
              "      <td>0.121997</td>\n",
              "      <td>0.00000</td>\n",
              "      <td>0.000000</td>\n",
              "      <td>0.0</td>\n",
              "      <td>0.208901</td>\n",
              "      <td>0.0</td>\n",
              "      <td>...</td>\n",
              "      <td>0.0</td>\n",
              "      <td>0.0</td>\n",
              "      <td>0.0</td>\n",
              "      <td>0.0</td>\n",
              "      <td>0.0</td>\n",
              "      <td>0.0</td>\n",
              "      <td>0.0</td>\n",
              "      <td>0.0</td>\n",
              "      <td>0.0</td>\n",
              "      <td>0.0</td>\n",
              "    </tr>\n",
              "    <tr>\n",
              "      <th>4</th>\n",
              "      <td>0.043771</td>\n",
              "      <td>0.000000</td>\n",
              "      <td>0.000000</td>\n",
              "      <td>0.092613</td>\n",
              "      <td>0.000000</td>\n",
              "      <td>0.00000</td>\n",
              "      <td>0.152293</td>\n",
              "      <td>0.0</td>\n",
              "      <td>0.000000</td>\n",
              "      <td>0.0</td>\n",
              "      <td>...</td>\n",
              "      <td>0.0</td>\n",
              "      <td>0.0</td>\n",
              "      <td>0.0</td>\n",
              "      <td>0.0</td>\n",
              "      <td>0.0</td>\n",
              "      <td>0.0</td>\n",
              "      <td>0.0</td>\n",
              "      <td>0.0</td>\n",
              "      <td>0.0</td>\n",
              "      <td>0.0</td>\n",
              "    </tr>\n",
              "  </tbody>\n",
              "</table>\n",
              "<p>5 rows × 286 columns</p>\n",
              "</div>"
            ],
            "text/plain": [
              "        1         3         4         5         6        7         8    9    \\\n",
              "0  0.014974  0.000000  0.000000  0.000000  0.000000  0.09282  0.104201  0.0   \n",
              "1  0.023709  0.000000  0.000000  0.000000  0.000000  0.00000  0.000000  0.0   \n",
              "2  0.047419  0.000000  0.000000  0.000000  0.000000  0.00000  0.000000  0.0   \n",
              "3  0.000000  0.203275  0.114241  0.000000  0.121997  0.00000  0.000000  0.0   \n",
              "4  0.043771  0.000000  0.000000  0.092613  0.000000  0.00000  0.152293  0.0   \n",
              "\n",
              "        10   13   ...  841  845  846  847  848  856  857  858  859  860  \n",
              "0  0.000000  0.0  ...  0.0  0.0  0.0  0.0  0.0  0.0  0.0  0.0  0.0  0.0  \n",
              "1  0.000000  0.0  ...  0.0  0.0  0.0  0.0  0.0  0.0  0.0  0.0  0.0  0.0  \n",
              "2  0.000000  0.0  ...  0.0  0.0  0.0  0.0  0.0  0.0  0.0  0.0  0.0  0.0  \n",
              "3  0.208901  0.0  ...  0.0  0.0  0.0  0.0  0.0  0.0  0.0  0.0  0.0  0.0  \n",
              "4  0.000000  0.0  ...  0.0  0.0  0.0  0.0  0.0  0.0  0.0  0.0  0.0  0.0  \n",
              "\n",
              "[5 rows x 286 columns]"
            ]
          },
          "execution_count": 64,
          "metadata": {},
          "output_type": "execute_result"
        }
      ],
      "source": [
        "df_selected_features = x.iloc[:,sel_feature.get_support()]\n",
        "df_selected_features.head()"
      ]
    },
    {
      "cell_type": "code",
      "execution_count": 66,
      "metadata": {
        "id": "yRVp_r1dkSmV"
      },
      "outputs": [],
      "source": [
        "df_selected_features.to_csv('setelah feature selection.csv',sep=';')"
      ]
    },
    {
      "cell_type": "code",
      "execution_count": 67,
      "metadata": {
        "id": "_W4r8pWu_VqP"
      },
      "outputs": [],
      "source": [
        "from sklearn.feature_extraction.text import TfidfTransformer\n",
        "from sklearn.feature_extraction.text import TfidfVectorizer\n",
        "import pandas as pd\n",
        "import numpy as np\n",
        "from sklearn.model_selection import train_test_split\n",
        "from sklearn.naive_bayes import MultinomialNB\n",
        "from sklearn import metrics\n",
        "from sklearn.feature_extraction.text import CountVectorizer\n",
        "import csv\n",
        "from sklearn.feature_selection import SelectKBest, chi2, mutual_info_classif\n",
        "from sklearn.svm import SVC\n",
        "from sklearn.ensemble import RandomForestClassifier\n",
        "import matplotlib.pyplot as plt\n",
        "from nltk.corpus import stopwords\n",
        "from nltk.tokenize import word_tokenize\n",
        "from nltk.stem import WordNetLemmatizer\n",
        "import re\n",
        "import string\n",
        "import itertools"
      ]
    },
    {
      "cell_type": "code",
      "execution_count": 68,
      "metadata": {
        "id": "4CjBLglm_gAO"
      },
      "outputs": [],
      "source": [
        "#Bag of Words\n",
        "def bow(train, test):\n",
        "    vectorizer = CountVectorizer(analyzer='word')\n",
        "    train_data = vectorizer.fit_transform(train)\n",
        "    test_data = vectorizer.transform(test)\n",
        "    feature_names = vectorizer.get_feature_names_out()\n",
        "    return train_data, test_data, feature_names"
      ]
    },
    {
      "cell_type": "code",
      "execution_count": 69,
      "metadata": {
        "id": "yglAFI6u_lCn"
      },
      "outputs": [],
      "source": [
        "# Feature selection according to chi2 method\n",
        "def ch2(x_train, y_train, x_test, feature_names):\n",
        "    ch2 = SelectKBest(chi2, k=10)\n",
        "    x_train_features = ch2.fit_transform(x_train, y_train)\n",
        "    x_test_features = ch2.transform(x_test)\n",
        "    feature_indices = ch2.get_support(indices=True)\n",
        "    selected_features = [feature_names[i] for i in ch2.get_support(indices=True)]\n",
        "    return x_train_features, x_test_features, feature_indices, selected_features\n",
        "# Feature selection according to mutual_info_classif\n",
        "def mutual_info(x_train, y_train, x_test, feature_names):\n",
        "    mutual = SelectKBest(mutual_info_classif, k=10)\n",
        "    x_train_features = mutual.fit_transform(x_train, y_train)\n",
        "    x_test_features = mutual.transform(x_test)\n",
        "    feature_indices = mutual.get_support(indices=True)\n",
        "    selected_features = [feature_names[i] for i in mutual.get_support(indices=True)]\n",
        "    return x_train_features, x_test_features, feature_indices, selected_features"
      ]
    },
    {
      "cell_type": "code",
      "execution_count": 70,
      "metadata": {
        "id": "7cZW6BHq_rME"
      },
      "outputs": [],
      "source": [
        "#TFIDF VECTORIZATION\n",
        "def tfidf(train, test):\n",
        "    vectorizer = TfidfTransformer()\n",
        "    train_tfidf = vectorizer.fit_transform(train)\n",
        "    test_tfidf = vectorizer.transform(test)\n",
        "    return train_tfidf, test_tfidf\n",
        "# NO FEATURE SELECTION\n",
        "def nofeatureselection(x_train, x_test, y_train):\n",
        "    #TFIDF\n",
        "    vectorizer = TfidfVectorizer(use_idf=True,\n",
        "                                 analyzer='word',\n",
        "                                 strip_accents='unicode')\n",
        "    tfidf_train = vectorizer.fit_transform(x_train)\n",
        "    tfidf_test = vectorizer.transform(x_test)\n",
        "    feature_names = vectorizer.get_feature_names_out()\n",
        "    ftrs = SelectKBest(score_func=chi2, k=10)\n",
        "    x_train_features = ftrs.fit_transform(tfidf_train, y_train)\n",
        "    x_test_features = ftrs.transform(tfidf_test)\n",
        "    feature_names = [feature_names[i] for i in ftrs.get_support(indices=True)]\n",
        "    return x_train_features, x_test_features, feature_names"
      ]
    },
    {
      "cell_type": "code",
      "execution_count": 71,
      "metadata": {
        "id": "DXprkTg__0y4"
      },
      "outputs": [],
      "source": [
        "def svm(train_tfidf, y_train, test_tfidf, y_test):\n",
        "    svc = SVC(kernel='linear', C = 1.0)\n",
        "    svc.fit(train_tfidf, y_train)\n",
        "    predicted = svc.predict(test_tfidf)\n",
        "    expected = y_test\n",
        "    print(metrics.classification_report(expected, predicted))\n",
        "    print(metrics.confusion_matrix(expected, predicted))\n",
        "    return expected, predicted"
      ]
    },
    {
      "cell_type": "code",
      "execution_count": 72,
      "metadata": {
        "id": "ziGfpNXE_-B9"
      },
      "outputs": [],
      "source": [
        "# SVM WITH FEATURE SELECTION METHOD CHI SQAURE\n",
        "def svm_wfs(x_train, x_test, y_train, y_test):\n",
        "    # Feature Extraction - Bag of Words\n",
        "    x_train, x_test, feature_names = bow(x_train, x_test)\n",
        "    # Feature Selection\n",
        "    x_train_features, x_test_features, feature_indices, selected_features = ch2(x_train, y_train, x_test, feature_names)\n",
        "    # TFIDF - Vecctorization\n",
        "    train_tfidf, test_tfidf = tfidf(x_train_features, x_test_features)\n",
        "    # Model - SVM\n",
        "    print(\"Results of SVM with Feature Selection\")\n",
        "    print(\"Features:\\n\", selected_features)\n",
        "    expectedsvm_wfs, predictedsvm_wfs = svm(train_tfidf, y_train, test_tfidf, y_test)\n",
        "    return expectedsvm_wfs, predictedsvm_wfs\n",
        "# SVM WITH FEATURE SELECTION METHOD MUTUAL INFORMATION\n",
        "def svm_wfs2(x_train, x_test, y_train, y_test):\n",
        "    # Feature Extraction\n",
        "    x_train, x_test, feature_names = bow(x_train, x_test)\n",
        "    # Feature Selection\n",
        "    x_train_features, x_test_features, feature_indices, selected_features = mutual_info(x_train, y_train, x_test, feature_names)\n",
        "    # TFIDF - Vectorization\n",
        "    train_tfidf, test_tfidf = tfidf(x_train_features, x_test_features)\n",
        "    # Model - SVM\n",
        "    print(\"Results of SVM with Feature Selection\")\n",
        "    print(\"Features:\\n\", selected_features)\n",
        "    expectedsvm_wfs, predictedsvm_wfs = svm(train_tfidf, y_train, test_tfidf, y_test)\n",
        "    return expectedsvm_wfs, predictedsvm_wfs\n",
        "# SVM WITHOUT FEATURE SELECTION\n",
        "def svm_nfs(x_train, x_test, y_train, y_test):\n",
        "    # TFIDF - Vecctorization\n",
        "    x_train_features, x_test_features, feature_names = nofeatureselection(x_train, x_test, y_train)\n",
        "    # Model - SVM\n",
        "    print(\"Results of SVM Classifier without Feature Selection\")\n",
        "    print(\"Features:\\n\", feature_names)\n",
        "    expectedsvm_nfs, predictedsvm_nfs = svm(x_train_features, y_train, x_test_features, y_test)\n",
        "    return expectedsvm_nfs, predictedsvm_nfs"
      ]
    },
    {
      "cell_type": "code",
      "execution_count": 73,
      "metadata": {
        "colab": {
          "base_uri": "https://localhost:8080/"
        },
        "id": "X0Ab3n4_ADop",
        "outputId": "1672e51a-f5db-4de9-8dc0-430d195ae769"
      },
      "outputs": [
        {
          "name": "stdout",
          "output_type": "stream",
          "text": [
            "   score                                               text  sentimen  \\\n",
            "0    1.0  ['aktif', 'kampus', 'merdeka', 'semester', 'po...  positive   \n",
            "1    2.0  ['alam', 'jurus', 'sasing', 'informasi', 'daft...  positive   \n",
            "2    2.0  ['alam', 'mbkm', 'program', 'kampus', 'ajar', ...  positive   \n",
            "3   -1.0  ['alam', 'sendiri', 'program', 'magang', 'mbkm...  negative   \n",
            "4    1.0  ['alam', 'teman', 'tukar', 'uang', 'saku', 'ca...  positive   \n",
            "\n",
            "                                          tweet_list  \\\n",
            "0  [aktif, kampus, merdeka, semester, posisi, di,...   \n",
            "1  [alam, jurus, sasing, informasi, daftar, mohon...   \n",
            "2  [alam, mbkm, program, kampus, ajar, ambil, sem...   \n",
            "3  [alam, sendiri, program, magang, mbkm, salah, ...   \n",
            "4  [alam, teman, tukar, uang, saku, cair, mbkm, u...   \n",
            "\n",
            "                                             TF_dict  \\\n",
            "0  {'aktif': 0.045454545454545456, 'kampus': 0.13...   \n",
            "1  {'alam': 0.045454545454545456, 'jurus': 0.0454...   \n",
            "2  {'alam': 0.058823529411764705, 'mbkm': 0.05882...   \n",
            "3  {'alam': 0.08333333333333333, 'sendiri': 0.083...   \n",
            "4  {'alam': 0.1, 'teman': 0.1, 'tukar': 0.1, 'uan...   \n",
            "\n",
            "                                         TF-IDF_dict  \\\n",
            "0  {'aktif': 0.18003696225443538, 'kampus': 0.138...   \n",
            "1  {'alam': 0.11995715134614811, 'jurus': 0.18003...   \n",
            "2  {'alam': 0.15523866644795636, 'mbkm': 0.001417...   \n",
            "3  {'alam': 0.21992144413460485, 'sendiri': 0.387...   \n",
            "4  {'alam': 0.26390573296152586, 'teman': 0.26390...   \n",
            "\n",
            "                                          TF_IDF_Vec  \n",
            "0  [0.00109534325359366, 0.0, 0.0, 0.138596480513...  \n",
            "1  [0.00109534325359366, 0.0, 0.0, 0.046198826837...  \n",
            "2  [0.0014175030340623836, 0.0, 0.0, 0.0597867170...  \n",
            "3  [0.0020081292982550435, 0.04741874961508364, 0...  \n",
            "4  [0.0024097551579060524, 0.05690249953810037, 0...  \n"
          ]
        }
      ],
      "source": [
        "x = df['text']\n",
        "y = df['sentimen']\n",
        "# Split dataset to training set and testing set\n",
        "x_train, x_test, y_train, y_test = train_test_split(x, y, train_size = 0.80, test_size=0.20, random_state=42)\n",
        "print(df.head())"
      ]
    },
    {
      "cell_type": "code",
      "execution_count": 76,
      "metadata": {},
      "outputs": [],
      "source": [
        "df.to_csv('data train dan data test.csv',sep=';')"
      ]
    },
    {
      "cell_type": "code",
      "execution_count": 75,
      "metadata": {
        "colab": {
          "base_uri": "https://localhost:8080/"
        },
        "id": "XIfBf6nFARGk",
        "outputId": "c4febbf6-19a6-47d7-9747-b057b0780976"
      },
      "outputs": [
        {
          "name": "stdout",
          "output_type": "stream",
          "text": [
            "Results of SVM with Feature Selection\n",
            "Features:\n",
            " ['bayar', 'biaya', 'butuh', 'daftar', 'kasih', 'konversi', 'lulus', 'potong', 'salah', 'turun']\n",
            "              precision    recall  f1-score   support\n",
            "\n",
            "    negative       0.83      0.59      0.69        17\n",
            "    positive       0.77      0.92      0.84        25\n",
            "\n",
            "    accuracy                           0.79        42\n",
            "   macro avg       0.80      0.75      0.76        42\n",
            "weighted avg       0.79      0.79      0.78        42\n",
            "\n",
            "[[10  7]\n",
            " [ 2 23]]\n",
            "Results of SVM with Feature Selection\n",
            "Features:\n",
            " ['bayar', 'cair', 'daftar', 'kasih', 'konversi', 'lulus', 'potong', 'salah', 'terima', 'turun']\n",
            "              precision    recall  f1-score   support\n",
            "\n",
            "    negative       0.88      0.82      0.85        17\n",
            "    positive       0.88      0.92      0.90        25\n",
            "\n",
            "    accuracy                           0.88        42\n",
            "   macro avg       0.88      0.87      0.88        42\n",
            "weighted avg       0.88      0.88      0.88        42\n",
            "\n",
            "[[14  3]\n",
            " [ 2 23]]\n",
            "Results of SVM Classifier without Feature Selection\n",
            "Features:\n",
            " ['bayar', 'butuh', 'cair', 'daftar', 'kasih', 'lambat', 'lulus', 'potong', 'salah', 'turun']\n",
            "              precision    recall  f1-score   support\n",
            "\n",
            "    negative       1.00      0.29      0.45        17\n",
            "    positive       0.68      1.00      0.81        25\n",
            "\n",
            "    accuracy                           0.71        42\n",
            "   macro avg       0.84      0.65      0.63        42\n",
            "weighted avg       0.81      0.71      0.66        42\n",
            "\n",
            "[[ 5 12]\n",
            " [ 0 25]]\n"
          ]
        }
      ],
      "source": [
        "# SVM WITH FEATURE SELECTION METHOD CHI SQUARE\n",
        "expectedsvm_wfs, predictedsvm_wfs = svm_wfs(x_train, x_test, y_train, y_test)\n",
        "\n",
        "# SVM WITH FEATURE SELECTION METHOD MUTUAL INFORMATION\n",
        "expectedsvm_wfs2, predictedsvm_wfs2 = svm_wfs2(x_train, x_test, y_train, y_test)\n",
        "#SVM WITHOUT FEATURE SELECTION\n",
        "\n",
        "# SVM WITHOUT FEATURE SELECTION\n",
        "expectedsvm_nfs, predictedsvm_nfs = svm_nfs(x_train, x_test, y_train, y_test)"
      ]
    },
    {
      "cell_type": "markdown",
      "metadata": {},
      "source": [
        "Fitur selection adalah proses memilih subset fitur yang paling relevan dan signifikan untuk digunakan dalam model. Tujuannya adalah untuk mengurangi dimensi data, meningkatkan kecepatan komputasi, mengurangi overfitting, dan meningkatkan performa model.\n",
        "\n",
        "Tanpa fitur selection, semua fitur yang ada dalam dataset akan digunakan dalam membangun model. Ini berarti bahwa tidak ada seleksi fitur yang dilakukan dan semua fitur digunakan sesuai dengan apa adanya.\n",
        "\n",
        "Perbedaan antara fitur selection dan tanpa fitur selection adalah jumlah fitur yang digunakan dalam pembangunan model. Fitur selection akan memilih subset fitur yang paling relevan dan signifikan, sehingga hanya fitur-fitur tersebut yang digunakan dalam membuat model. Sementara itu, tanpa fitur selection, semua fitur yang ada dalam dataset akan diikutsertakan dalam membangun model.\n",
        "\n",
        "Keuntungan menggunakan fitur selection adalah pengurangan dimensi data, lebih efisien dalam pemrosesan, menghindari overfitting, dan dapat meningkatkan performa model dengan fokus pada fitur yang paling penting. Namun, ada juga kekurangan jika fitur yang relevan tidak terpilih atau informasi penting hilang karena proses seleksi.\n",
        "\n",
        "Di sisi lain, tanpa fitur selection, semua fitur disertakan dalam model, yang bisa menjadi tidak efisien dalam hal waktu komputasi dan penggunaan memori. Namun, ini memastikan bahwa tidak ada fitur yang diabaikan dan semua informasi yang tersedia dalam dataset digunakan. Jika dataset memiliki jumlah fitur yang relatif kecil dan relevan, atau jika tujuan utama adalah interpretabilitas daripada kinerja, maka tanpa fitur selection dapat menjadi pilihan yang lebih sederhana dan langsung."
      ]
    }
  ],
  "metadata": {
    "colab": {
      "collapsed_sections": [
        "Dbcc76K6nugT"
      ],
      "provenance": []
    },
    "kernelspec": {
      "display_name": "Python 3",
      "name": "python3"
    },
    "language_info": {
      "codemirror_mode": {
        "name": "ipython",
        "version": 3
      },
      "file_extension": ".py",
      "mimetype": "text/x-python",
      "name": "python",
      "nbconvert_exporter": "python",
      "pygments_lexer": "ipython3",
      "version": "3.11.4"
    }
  },
  "nbformat": 4,
  "nbformat_minor": 0
}
